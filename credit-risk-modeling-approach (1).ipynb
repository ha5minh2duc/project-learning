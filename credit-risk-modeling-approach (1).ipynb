{
 "cells": [
  {
   "cell_type": "markdown",
   "metadata": {
    "papermill": {
     "duration": 0.052245,
     "end_time": "2021-02-06T13:41:44.638225",
     "exception": false,
     "start_time": "2021-02-06T13:41:44.585980",
     "status": "completed"
    },
    "tags": []
   },
   "source": [
    "# 🔐 Code Session"
   ]
  },
  {
   "cell_type": "markdown",
   "metadata": {
    "papermill": {
     "duration": 0.050688,
     "end_time": "2021-02-06T13:41:44.740357",
     "exception": false,
     "start_time": "2021-02-06T13:41:44.689669",
     "status": "completed"
    },
    "tags": []
   },
   "source": [
    "-----------------------"
   ]
  },
  {
   "cell_type": "markdown",
   "metadata": {
    "papermill": {
     "duration": 0.051141,
     "end_time": "2021-02-06T13:41:44.842403",
     "exception": false,
     "start_time": "2021-02-06T13:41:44.791262",
     "status": "completed"
    },
    "tags": []
   },
   "source": [
    "## 📚 Imports"
   ]
  },
  {
   "cell_type": "code",
   "execution_count": 1,
   "metadata": {
    "ExecuteTime": {
     "end_time": "2019-06-05T03:55:04.610964Z",
     "start_time": "2019-06-05T03:55:03.338924Z"
    },
    "execution": {
     "iopub.execute_input": "2021-02-06T13:41:44.949609Z",
     "iopub.status.busy": "2021-02-06T13:41:44.948972Z",
     "iopub.status.idle": "2021-02-06T13:41:47.621994Z",
     "shell.execute_reply": "2021-02-06T13:41:47.621272Z"
    },
    "papermill": {
     "duration": 2.728457,
     "end_time": "2021-02-06T13:41:47.622120",
     "exception": false,
     "start_time": "2021-02-06T13:41:44.893663",
     "status": "completed"
    },
    "scrolled": true,
    "tags": []
   },
   "outputs": [],
   "source": [
    "import numpy as np # linear algebra\n",
    "import pandas as pd # data processing, CSV file I/O (e.g. pd.read_csv)\n",
    "import os\n",
    "import seaborn as sns\n",
    "import matplotlib.pyplot as plt\n",
    "%matplotlib inline\n",
    "\n",
    "import seaborn as sns\n",
    "import matplotlib.pyplot as plt\n",
    "%matplotlib inline\n",
    "\n",
    "from sklearn.metrics import roc_auc_score,precision_recall_curve,roc_curve\n",
    "from sklearn.metrics import classification_report, accuracy_score\n",
    "from sklearn.model_selection import train_test_split\n",
    "from sklearn.metrics import roc_auc_score\n",
    "from sklearn import model_selection\n",
    "\n",
    "from sklearn.model_selection import GridSearchCV, StratifiedKFold, KFold\n",
    "from sklearn.ensemble import RandomForestClassifier\n",
    "from sklearn.linear_model import LogisticRegression\n",
    "\n",
    "import warnings\n",
    "warnings.filterwarnings(\"ignore\", category=DeprecationWarning)\n",
    "warnings.filterwarnings(\"ignore\", category=UserWarning)\n",
    "warnings.filterwarnings(\"ignore\", category=FutureWarning)\n",
    "from IPython.display import HTML\n",
    "\n",
    "pd.set_option('max_columns', 50)"
   ]
  },
  {
   "cell_type": "markdown",
   "metadata": {
    "papermill": {
     "duration": 0.052509,
     "end_time": "2021-02-06T13:41:47.729008",
     "exception": false,
     "start_time": "2021-02-06T13:41:47.676499",
     "status": "completed"
    },
    "tags": []
   },
   "source": [
    "## 📥 Load dataset"
   ]
  },
  {
   "cell_type": "code",
   "execution_count": 2,
   "metadata": {
    "execution": {
     "iopub.execute_input": "2021-02-06T13:41:47.971807Z",
     "iopub.status.busy": "2021-02-06T13:41:47.971005Z",
     "iopub.status.idle": "2021-02-06T13:41:48.010978Z",
     "shell.execute_reply": "2021-02-06T13:41:48.010428Z"
    },
    "papermill": {
     "duration": 0.09752,
     "end_time": "2021-02-06T13:41:48.011103",
     "exception": false,
     "start_time": "2021-02-06T13:41:47.913583",
     "status": "completed"
    },
    "tags": []
   },
   "outputs": [
    {
     "data": {
      "text/html": [
       "<div>\n",
       "<style scoped>\n",
       "    .dataframe tbody tr th:only-of-type {\n",
       "        vertical-align: middle;\n",
       "    }\n",
       "\n",
       "    .dataframe tbody tr th {\n",
       "        vertical-align: top;\n",
       "    }\n",
       "\n",
       "    .dataframe thead th {\n",
       "        text-align: right;\n",
       "    }\n",
       "</style>\n",
       "<table border=\"1\" class=\"dataframe\">\n",
       "  <thead>\n",
       "    <tr style=\"text-align: right;\">\n",
       "      <th></th>\n",
       "      <th>clientid</th>\n",
       "      <th>income</th>\n",
       "      <th>age</th>\n",
       "      <th>loan</th>\n",
       "      <th>default</th>\n",
       "    </tr>\n",
       "  </thead>\n",
       "  <tbody>\n",
       "    <tr>\n",
       "      <th>0</th>\n",
       "      <td>1</td>\n",
       "      <td>66155.925095</td>\n",
       "      <td>59.017015</td>\n",
       "      <td>8106.532131</td>\n",
       "      <td>0</td>\n",
       "    </tr>\n",
       "    <tr>\n",
       "      <th>1</th>\n",
       "      <td>2</td>\n",
       "      <td>34415.153966</td>\n",
       "      <td>48.117153</td>\n",
       "      <td>6564.745018</td>\n",
       "      <td>0</td>\n",
       "    </tr>\n",
       "    <tr>\n",
       "      <th>2</th>\n",
       "      <td>3</td>\n",
       "      <td>57317.170063</td>\n",
       "      <td>63.108049</td>\n",
       "      <td>8020.953296</td>\n",
       "      <td>0</td>\n",
       "    </tr>\n",
       "    <tr>\n",
       "      <th>3</th>\n",
       "      <td>4</td>\n",
       "      <td>42709.534201</td>\n",
       "      <td>45.751972</td>\n",
       "      <td>6103.642260</td>\n",
       "      <td>0</td>\n",
       "    </tr>\n",
       "    <tr>\n",
       "      <th>4</th>\n",
       "      <td>5</td>\n",
       "      <td>66952.688845</td>\n",
       "      <td>18.584336</td>\n",
       "      <td>8770.099235</td>\n",
       "      <td>1</td>\n",
       "    </tr>\n",
       "  </tbody>\n",
       "</table>\n",
       "</div>"
      ],
      "text/plain": [
       "   clientid        income        age         loan  default\n",
       "0         1  66155.925095  59.017015  8106.532131        0\n",
       "1         2  34415.153966  48.117153  6564.745018        0\n",
       "2         3  57317.170063  63.108049  8020.953296        0\n",
       "3         4  42709.534201  45.751972  6103.642260        0\n",
       "4         5  66952.688845  18.584336  8770.099235        1"
      ]
     },
     "execution_count": 2,
     "metadata": {},
     "output_type": "execute_result"
    }
   ],
   "source": [
    "df = pd.read_csv('original.csv')\n",
    "df.head()"
   ]
  },
  {
   "cell_type": "code",
   "execution_count": 3,
   "metadata": {},
   "outputs": [
    {
     "data": {
      "text/plain": [
       "(2000, 5)"
      ]
     },
     "execution_count": 3,
     "metadata": {},
     "output_type": "execute_result"
    }
   ],
   "source": [
    "df.shape"
   ]
  },
  {
   "cell_type": "code",
   "execution_count": 4,
   "metadata": {
    "execution": {
     "iopub.execute_input": "2021-02-06T13:41:48.131461Z",
     "iopub.status.busy": "2021-02-06T13:41:48.130762Z",
     "iopub.status.idle": "2021-02-06T13:41:48.151098Z",
     "shell.execute_reply": "2021-02-06T13:41:48.151852Z"
    },
    "papermill": {
     "duration": 0.084506,
     "end_time": "2021-02-06T13:41:48.152008",
     "exception": false,
     "start_time": "2021-02-06T13:41:48.067502",
     "status": "completed"
    },
    "tags": []
   },
   "outputs": [
    {
     "name": "stdout",
     "output_type": "stream",
     "text": [
      "<class 'pandas.core.frame.DataFrame'>\n",
      "RangeIndex: 2000 entries, 0 to 1999\n",
      "Data columns (total 5 columns):\n",
      " #   Column    Non-Null Count  Dtype  \n",
      "---  ------    --------------  -----  \n",
      " 0   clientid  2000 non-null   int64  \n",
      " 1   income    2000 non-null   float64\n",
      " 2   age       1997 non-null   float64\n",
      " 3   loan      2000 non-null   float64\n",
      " 4   default   2000 non-null   int64  \n",
      "dtypes: float64(3), int64(2)\n",
      "memory usage: 78.2 KB\n"
     ]
    }
   ],
   "source": [
    "# quick look at the dataset\n",
    "df.info()"
   ]
  },
  {
   "cell_type": "code",
   "execution_count": 5,
   "metadata": {
    "execution": {
     "iopub.execute_input": "2021-02-06T13:41:48.370878Z",
     "iopub.status.busy": "2021-02-06T13:41:48.370146Z",
     "iopub.status.idle": "2021-02-06T13:41:48.375006Z",
     "shell.execute_reply": "2021-02-06T13:41:48.375582Z"
    },
    "papermill": {
     "duration": 0.061911,
     "end_time": "2021-02-06T13:41:48.375756",
     "exception": false,
     "start_time": "2021-02-06T13:41:48.313845",
     "status": "completed"
    },
    "tags": []
   },
   "outputs": [],
   "source": [
    "target = 'default'  \n",
    "num_vars = list(df.columns.drop(['clientid', 'default']))\n",
    "#cat_vars = list(df.columns.drop([''])) # there's no categorical features within the dataset"
   ]
  },
  {
   "cell_type": "markdown",
   "metadata": {
    "papermill": {
     "duration": 0.053526,
     "end_time": "2021-02-06T13:41:48.482971",
     "exception": false,
     "start_time": "2021-02-06T13:41:48.429445",
     "status": "completed"
    },
    "tags": []
   },
   "source": [
    "## 🔎 EDA (Exploratory Data Analysis) "
   ]
  },
  {
   "cell_type": "markdown",
   "metadata": {
    "papermill": {
     "duration": 0.064065,
     "end_time": "2021-02-06T13:41:49.049524",
     "exception": false,
     "start_time": "2021-02-06T13:41:48.985459",
     "status": "completed"
    },
    "tags": []
   },
   "source": [
    "### Local EDA\n"
   ]
  },
  {
   "cell_type": "code",
   "execution_count": 6,
   "metadata": {
    "execution": {
     "iopub.execute_input": "2021-02-06T13:41:49.163061Z",
     "iopub.status.busy": "2021-02-06T13:41:49.162405Z",
     "iopub.status.idle": "2021-02-06T13:41:49.179066Z",
     "shell.execute_reply": "2021-02-06T13:41:49.178440Z"
    },
    "papermill": {
     "duration": 0.073781,
     "end_time": "2021-02-06T13:41:49.179187",
     "exception": false,
     "start_time": "2021-02-06T13:41:49.105406",
     "status": "completed"
    },
    "tags": []
   },
   "outputs": [
    {
     "data": {
      "text/html": [
       "<div>\n",
       "<style scoped>\n",
       "    .dataframe tbody tr th:only-of-type {\n",
       "        vertical-align: middle;\n",
       "    }\n",
       "\n",
       "    .dataframe tbody tr th {\n",
       "        vertical-align: top;\n",
       "    }\n",
       "\n",
       "    .dataframe thead th {\n",
       "        text-align: right;\n",
       "    }\n",
       "</style>\n",
       "<table border=\"1\" class=\"dataframe\">\n",
       "  <thead>\n",
       "    <tr style=\"text-align: right;\">\n",
       "      <th></th>\n",
       "      <th>clientid</th>\n",
       "      <th>income</th>\n",
       "      <th>age</th>\n",
       "      <th>loan</th>\n",
       "      <th>default</th>\n",
       "    </tr>\n",
       "  </thead>\n",
       "  <tbody>\n",
       "    <tr>\n",
       "      <th>1995</th>\n",
       "      <td>1996</td>\n",
       "      <td>59221.044874</td>\n",
       "      <td>48.518179</td>\n",
       "      <td>1926.729397</td>\n",
       "      <td>0</td>\n",
       "    </tr>\n",
       "    <tr>\n",
       "      <th>1996</th>\n",
       "      <td>1997</td>\n",
       "      <td>69516.127573</td>\n",
       "      <td>23.162104</td>\n",
       "      <td>3503.176156</td>\n",
       "      <td>0</td>\n",
       "    </tr>\n",
       "    <tr>\n",
       "      <th>1997</th>\n",
       "      <td>1998</td>\n",
       "      <td>44311.449262</td>\n",
       "      <td>28.017167</td>\n",
       "      <td>5522.786693</td>\n",
       "      <td>1</td>\n",
       "    </tr>\n",
       "    <tr>\n",
       "      <th>1998</th>\n",
       "      <td>1999</td>\n",
       "      <td>43756.056605</td>\n",
       "      <td>63.971796</td>\n",
       "      <td>1622.722598</td>\n",
       "      <td>0</td>\n",
       "    </tr>\n",
       "    <tr>\n",
       "      <th>1999</th>\n",
       "      <td>2000</td>\n",
       "      <td>69436.579552</td>\n",
       "      <td>56.152617</td>\n",
       "      <td>7378.833599</td>\n",
       "      <td>0</td>\n",
       "    </tr>\n",
       "  </tbody>\n",
       "</table>\n",
       "</div>"
      ],
      "text/plain": [
       "      clientid        income        age         loan  default\n",
       "1995      1996  59221.044874  48.518179  1926.729397        0\n",
       "1996      1997  69516.127573  23.162104  3503.176156        0\n",
       "1997      1998  44311.449262  28.017167  5522.786693        1\n",
       "1998      1999  43756.056605  63.971796  1622.722598        0\n",
       "1999      2000  69436.579552  56.152617  7378.833599        0"
      ]
     },
     "execution_count": 6,
     "metadata": {},
     "output_type": "execute_result"
    }
   ],
   "source": [
    "# choosing any id\n",
    "df.tail()"
   ]
  },
  {
   "cell_type": "markdown",
   "metadata": {
    "papermill": {
     "duration": 0.053865,
     "end_time": "2021-02-06T13:41:49.397593",
     "exception": false,
     "start_time": "2021-02-06T13:41:49.343728",
     "status": "completed"
    },
    "tags": []
   },
   "source": [
    "### Overall EDA"
   ]
  },
  {
   "cell_type": "markdown",
   "metadata": {
    "papermill": {
     "duration": 0.053812,
     "end_time": "2021-02-06T13:41:49.505840",
     "exception": false,
     "start_time": "2021-02-06T13:41:49.452028",
     "status": "completed"
    },
    "tags": []
   },
   "source": [
    "### 🧮 Descriptive Measures"
   ]
  },
  {
   "cell_type": "code",
   "execution_count": 7,
   "metadata": {
    "execution": {
     "iopub.execute_input": "2021-02-06T13:41:49.624581Z",
     "iopub.status.busy": "2021-02-06T13:41:49.623904Z",
     "iopub.status.idle": "2021-02-06T13:41:49.645804Z",
     "shell.execute_reply": "2021-02-06T13:41:49.646342Z"
    },
    "papermill": {
     "duration": 0.086251,
     "end_time": "2021-02-06T13:41:49.646491",
     "exception": false,
     "start_time": "2021-02-06T13:41:49.560240",
     "status": "completed"
    },
    "tags": []
   },
   "outputs": [
    {
     "data": {
      "text/html": [
       "<div>\n",
       "<style scoped>\n",
       "    .dataframe tbody tr th:only-of-type {\n",
       "        vertical-align: middle;\n",
       "    }\n",
       "\n",
       "    .dataframe tbody tr th {\n",
       "        vertical-align: top;\n",
       "    }\n",
       "\n",
       "    .dataframe thead th {\n",
       "        text-align: right;\n",
       "    }\n",
       "</style>\n",
       "<table border=\"1\" class=\"dataframe\">\n",
       "  <thead>\n",
       "    <tr style=\"text-align: right;\">\n",
       "      <th></th>\n",
       "      <th>income</th>\n",
       "      <th>age</th>\n",
       "      <th>loan</th>\n",
       "    </tr>\n",
       "  </thead>\n",
       "  <tbody>\n",
       "    <tr>\n",
       "      <th>count</th>\n",
       "      <td>2000.00</td>\n",
       "      <td>1997.00</td>\n",
       "      <td>2000.00</td>\n",
       "    </tr>\n",
       "    <tr>\n",
       "      <th>mean</th>\n",
       "      <td>45331.60</td>\n",
       "      <td>40.81</td>\n",
       "      <td>4444.37</td>\n",
       "    </tr>\n",
       "    <tr>\n",
       "      <th>std</th>\n",
       "      <td>14326.33</td>\n",
       "      <td>13.62</td>\n",
       "      <td>3045.41</td>\n",
       "    </tr>\n",
       "    <tr>\n",
       "      <th>min</th>\n",
       "      <td>20014.49</td>\n",
       "      <td>-52.42</td>\n",
       "      <td>1.38</td>\n",
       "    </tr>\n",
       "    <tr>\n",
       "      <th>25%</th>\n",
       "      <td>32796.46</td>\n",
       "      <td>28.99</td>\n",
       "      <td>1939.71</td>\n",
       "    </tr>\n",
       "    <tr>\n",
       "      <th>50%</th>\n",
       "      <td>45789.12</td>\n",
       "      <td>41.32</td>\n",
       "      <td>3974.72</td>\n",
       "    </tr>\n",
       "    <tr>\n",
       "      <th>75%</th>\n",
       "      <td>57791.28</td>\n",
       "      <td>52.59</td>\n",
       "      <td>6432.41</td>\n",
       "    </tr>\n",
       "    <tr>\n",
       "      <th>max</th>\n",
       "      <td>69995.69</td>\n",
       "      <td>63.97</td>\n",
       "      <td>13766.05</td>\n",
       "    </tr>\n",
       "  </tbody>\n",
       "</table>\n",
       "</div>"
      ],
      "text/plain": [
       "         income      age      loan\n",
       "count   2000.00  1997.00   2000.00\n",
       "mean   45331.60    40.81   4444.37\n",
       "std    14326.33    13.62   3045.41\n",
       "min    20014.49   -52.42      1.38\n",
       "25%    32796.46    28.99   1939.71\n",
       "50%    45789.12    41.32   3974.72\n",
       "75%    57791.28    52.59   6432.41\n",
       "max    69995.69    63.97  13766.05"
      ]
     },
     "execution_count": 7,
     "metadata": {},
     "output_type": "execute_result"
    }
   ],
   "source": [
    "descriptive_measures = round(df.drop(['clientid','default'],axis=1).describe(),2)\n",
    "descriptive_measures"
   ]
  },
  {
   "cell_type": "markdown",
   "metadata": {
    "papermill": {
     "duration": 0.054644,
     "end_time": "2021-02-06T13:41:49.756365",
     "exception": false,
     "start_time": "2021-02-06T13:41:49.701721",
     "status": "completed"
    },
    "tags": []
   },
   "source": [
    "### 📊 Data Visualization"
   ]
  },
  {
   "cell_type": "markdown",
   "metadata": {
    "papermill": {
     "duration": 0.055504,
     "end_time": "2021-02-06T13:41:49.867868",
     "exception": false,
     "start_time": "2021-02-06T13:41:49.812364",
     "status": "completed"
    },
    "tags": []
   },
   "source": [
    "#### dependent variable (*target*)"
   ]
  },
  {
   "cell_type": "code",
   "execution_count": 8,
   "metadata": {
    "execution": {
     "iopub.execute_input": "2021-02-06T13:41:49.988292Z",
     "iopub.status.busy": "2021-02-06T13:41:49.987580Z",
     "iopub.status.idle": "2021-02-06T13:41:50.209672Z",
     "shell.execute_reply": "2021-02-06T13:41:50.208841Z"
    },
    "papermill": {
     "duration": 0.286612,
     "end_time": "2021-02-06T13:41:50.209834",
     "exception": false,
     "start_time": "2021-02-06T13:41:49.923222",
     "status": "completed"
    },
    "tags": []
   },
   "outputs": [
    {
     "data": {
      "image/png": "[encoded data removed]",
      "text/plain": [
       "<Figure size 432x216 with 1 Axes>"
      ]
     },
     "metadata": {
      "needs_background": "light"
     },
     "output_type": "display_data"
    }
   ],
   "source": [
    "# Visualização da variável binária (target)\n",
    "df.default.value_counts().plot(kind = 'bar', color = ['C0', 'C1'], figsize=(6, 3), rot=0, title='PLOT: DEFAULT')\n",
    "plt.xlabel(\"EVENT: |  0=Default  |  1=No Default\")\n",
    "plt.ylabel(\"ABSOLUTE FREQUENCY (count)\");"
   ]
  },
  {
   "cell_type": "code",
   "execution_count": 9,
   "metadata": {
    "execution": {
     "iopub.execute_input": "2021-02-06T13:41:50.342284Z",
     "iopub.status.busy": "2021-02-06T13:41:50.341444Z",
     "iopub.status.idle": "2021-02-06T13:41:50.346614Z",
     "shell.execute_reply": "2021-02-06T13:41:50.345983Z"
    },
    "papermill": {
     "duration": 0.073653,
     "end_time": "2021-02-06T13:41:50.346742",
     "exception": false,
     "start_time": "2021-02-06T13:41:50.273089",
     "status": "completed"
    },
    "tags": []
   },
   "outputs": [
    {
     "name": "stdout",
     "output_type": "stream",
     "text": [
      "Total NO DEFAULT(0): 283 lines, representing 14.15 % of the dataset\n",
      "Total DEFAULT(1): 1717 lines, representing 85.85 % of the dataset\n"
     ]
    }
   ],
   "source": [
    "# Overview of  binary variable (target)\n",
    "inad = df.default.value_counts()[0]\n",
    "ad = df.default.value_counts()[1]\n",
    "print('Total NO DEFAULT(0):', ad, 'lines, representing', round((ad/(inad+ad))*100,2),'% of the dataset')\n",
    "print('Total DEFAULT(1):', inad, 'lines, representing', round((inad/(inad+ad))*100,2),'% of the dataset')"
   ]
  },
  {
   "cell_type": "markdown",
   "metadata": {
    "papermill": {
     "duration": 0.056443,
     "end_time": "2021-02-06T13:41:50.572399",
     "exception": false,
     "start_time": "2021-02-06T13:41:50.515956",
     "status": "completed"
    },
    "tags": []
   },
   "source": [
    "#### independent variable (*features*)"
   ]
  },
  {
   "cell_type": "code",
   "execution_count": 10,
   "metadata": {
    "execution": {
     "iopub.execute_input": "2021-02-06T13:41:50.699984Z",
     "iopub.status.busy": "2021-02-06T13:41:50.699227Z",
     "iopub.status.idle": "2021-02-06T13:41:52.241967Z",
     "shell.execute_reply": "2021-02-06T13:41:52.241223Z"
    },
    "papermill": {
     "duration": 1.613268,
     "end_time": "2021-02-06T13:41:52.242095",
     "exception": false,
     "start_time": "2021-02-06T13:41:50.628827",
     "status": "completed"
    },
    "tags": []
   },
   "outputs": [
    {
     "name": "stderr",
     "output_type": "stream",
     "text": [
      "C:\\Users\\Dell\\anaconda3\\lib\\site-packages\\numpy\\lib\\histograms.py:839: RuntimeWarning: invalid value encountered in greater_equal\n",
      "  keep = (tmp_a >= first_edge)\n",
      "C:\\Users\\Dell\\anaconda3\\lib\\site-packages\\numpy\\lib\\histograms.py:840: RuntimeWarning: invalid value encountered in less_equal\n",
      "  keep &= (tmp_a <= last_edge)\n"
     ]
    },
    {
     "data": {
      "image/png": "[encoded data removed]",
      "text/plain": [
       "<Figure size 720x360 with 3 Axes>"
      ]
     },
     "metadata": {
      "needs_background": "light"
     },
     "output_type": "display_data"
    }
   ],
   "source": [
    "# code for plotting multiple HISTOGRAM\n",
    "fig, axs = plt.subplots(3,1, figsize=(10, 5),constrained_layout=True)\n",
    "axs[0].hist(df['income'],bins=100)\n",
    "axs[1].hist(df['age'], bins=100)\n",
    "axs[2].hist(df['loan'], bins=100)\n",
    "plt.show();"
   ]
  },
  {
   "cell_type": "code",
   "execution_count": 11,
   "metadata": {
    "execution": {
     "iopub.execute_input": "2021-02-06T13:41:52.375758Z",
     "iopub.status.busy": "2021-02-06T13:41:52.374989Z",
     "iopub.status.idle": "2021-02-06T13:41:53.088059Z",
     "shell.execute_reply": "2021-02-06T13:41:53.087459Z"
    },
    "papermill": {
     "duration": 0.786628,
     "end_time": "2021-02-06T13:41:53.088181",
     "exception": false,
     "start_time": "2021-02-06T13:41:52.301553",
     "status": "completed"
    },
    "tags": []
   },
   "outputs": [
    {
     "data": {
      "image/png": "[encoded data removed]",
      "text/plain": [
       "<Figure size 720x720 with 3 Axes>"
      ]
     },
     "metadata": {
      "needs_background": "light"
     },
     "output_type": "display_data"
    }
   ],
   "source": [
    "# code for plotting multiple SCATTER PLOTS\n",
    "fig, axs = plt.subplots(3,1, figsize=(10,10),constrained_layout=True)\n",
    "\n",
    "axs[0].scatter(x=df['income'], y=df['default'], marker='o', color='r')\n",
    "axs[1].scatter(x=df['age'], y=df['default'], marker='o', color='r')\n",
    "axs[2].scatter(x=df['loan'], y=df['default'], marker='o', color='r')\n",
    "\n",
    "\n",
    "plt.show();"
   ]
  },
  {
   "cell_type": "code",
   "execution_count": 12,
   "metadata": {
    "execution": {
     "iopub.execute_input": "2021-02-06T13:41:53.222790Z",
     "iopub.status.busy": "2021-02-06T13:41:53.222103Z",
     "iopub.status.idle": "2021-02-06T13:41:53.855153Z",
     "shell.execute_reply": "2021-02-06T13:41:53.854484Z"
    },
    "papermill": {
     "duration": 0.707354,
     "end_time": "2021-02-06T13:41:53.855282",
     "exception": false,
     "start_time": "2021-02-06T13:41:53.147928",
     "status": "completed"
    },
    "tags": []
   },
   "outputs": [
    {
     "data": {
      "image/png": "[encoded data removed]",
      "text/plain": [
       "<Figure size 1440x360 with 3 Axes>"
      ]
     },
     "metadata": {
      "needs_background": "light"
     },
     "output_type": "display_data"
    }
   ],
   "source": [
    "# code for plotting multiple BOXPLOTS\n",
    "fig, axes = plt.subplots(1, 3, figsize=(20, 5),constrained_layout=True)\n",
    "fig.suptitle('BOXPLOTS DE I, II and III', ha = 'right')\n",
    "my_pal=\"Blues\"\n",
    "\n",
    "sns.boxplot(ax=axes[0], data=df, x = target, y=\"income\", palette=my_pal)\n",
    "sns.boxplot(ax=axes[1], data=df, x = target, y=\"age\", palette=my_pal)\n",
    "sns.boxplot(ax=axes[2], data=df, x = target, y=\"loan\", palette=my_pal);"
   ]
  },
  {
   "cell_type": "code",
   "execution_count": 13,
   "metadata": {
    "execution": {
     "iopub.execute_input": "2021-02-06T13:41:54.115070Z",
     "iopub.status.busy": "2021-02-06T13:41:54.113365Z",
     "iopub.status.idle": "2021-02-06T13:41:54.128143Z",
     "shell.execute_reply": "2021-02-06T13:41:54.127460Z"
    },
    "papermill": {
     "duration": 0.082143,
     "end_time": "2021-02-06T13:41:54.128272",
     "exception": false,
     "start_time": "2021-02-06T13:41:54.046129",
     "status": "completed"
    },
    "tags": []
   },
   "outputs": [
    {
     "data": {
      "text/html": [
       "<div>\n",
       "<style scoped>\n",
       "    .dataframe tbody tr th:only-of-type {\n",
       "        vertical-align: middle;\n",
       "    }\n",
       "\n",
       "    .dataframe tbody tr th {\n",
       "        vertical-align: top;\n",
       "    }\n",
       "\n",
       "    .dataframe thead th {\n",
       "        text-align: right;\n",
       "    }\n",
       "</style>\n",
       "<table border=\"1\" class=\"dataframe\">\n",
       "  <thead>\n",
       "    <tr style=\"text-align: right;\">\n",
       "      <th></th>\n",
       "      <th>Asymmetry</th>\n",
       "      <th>Kurtosis</th>\n",
       "    </tr>\n",
       "  </thead>\n",
       "  <tbody>\n",
       "    <tr>\n",
       "      <th>income</th>\n",
       "      <td>-0.042621</td>\n",
       "      <td>-1.201708</td>\n",
       "    </tr>\n",
       "    <tr>\n",
       "      <th>age</th>\n",
       "      <td>-0.307964</td>\n",
       "      <td>0.549445</td>\n",
       "    </tr>\n",
       "    <tr>\n",
       "      <th>loan</th>\n",
       "      <td>0.624284</td>\n",
       "      <td>-0.337330</td>\n",
       "    </tr>\n",
       "  </tbody>\n",
       "</table>\n",
       "</div>"
      ],
      "text/plain": [
       "        Asymmetry  Kurtosis\n",
       "income  -0.042621 -1.201708\n",
       "age     -0.307964  0.549445\n",
       "loan     0.624284 -0.337330"
      ]
     },
     "execution_count": 13,
     "metadata": {},
     "output_type": "execute_result"
    }
   ],
   "source": [
    "# Asymmetry x Kurtosis calculation \n",
    "data_k_s = {'Asymmetry':  df[num_vars].skew(), 'Kurtosis': df[num_vars].kurtosis()}\n",
    "df_k_s = pd.DataFrame (data_k_s, columns = ['Asymmetry','Kurtosis'])\n",
    "df_k_s"
   ]
  },
  {
   "cell_type": "markdown",
   "metadata": {
    "papermill": {
     "duration": 0.060547,
     "end_time": "2021-02-06T13:41:54.250044",
     "exception": false,
     "start_time": "2021-02-06T13:41:54.189497",
     "status": "completed"
    },
    "tags": []
   },
   "source": [
    "### Missing Values"
   ]
  },
  {
   "cell_type": "code",
   "execution_count": 14,
   "metadata": {
    "execution": {
     "iopub.execute_input": "2021-02-06T13:41:54.385894Z",
     "iopub.status.busy": "2021-02-06T13:41:54.385175Z",
     "iopub.status.idle": "2021-02-06T13:41:54.389635Z",
     "shell.execute_reply": "2021-02-06T13:41:54.389056Z"
    },
    "papermill": {
     "duration": 0.078876,
     "end_time": "2021-02-06T13:41:54.389777",
     "exception": false,
     "start_time": "2021-02-06T13:41:54.310901",
     "status": "completed"
    },
    "tags": []
   },
   "outputs": [
    {
     "data": {
      "text/html": [
       "<div>\n",
       "<style scoped>\n",
       "    .dataframe tbody tr th:only-of-type {\n",
       "        vertical-align: middle;\n",
       "    }\n",
       "\n",
       "    .dataframe tbody tr th {\n",
       "        vertical-align: top;\n",
       "    }\n",
       "\n",
       "    .dataframe thead th {\n",
       "        text-align: right;\n",
       "    }\n",
       "</style>\n",
       "<table border=\"1\" class=\"dataframe\">\n",
       "  <thead>\n",
       "    <tr style=\"text-align: right;\">\n",
       "      <th></th>\n",
       "      <th>index</th>\n",
       "      <th>0</th>\n",
       "    </tr>\n",
       "  </thead>\n",
       "  <tbody>\n",
       "    <tr>\n",
       "      <th>0</th>\n",
       "      <td>age</td>\n",
       "      <td>0.15</td>\n",
       "    </tr>\n",
       "    <tr>\n",
       "      <th>1</th>\n",
       "      <td>default</td>\n",
       "      <td>0.00</td>\n",
       "    </tr>\n",
       "    <tr>\n",
       "      <th>2</th>\n",
       "      <td>loan</td>\n",
       "      <td>0.00</td>\n",
       "    </tr>\n",
       "    <tr>\n",
       "      <th>3</th>\n",
       "      <td>income</td>\n",
       "      <td>0.00</td>\n",
       "    </tr>\n",
       "    <tr>\n",
       "      <th>4</th>\n",
       "      <td>clientid</td>\n",
       "      <td>0.00</td>\n",
       "    </tr>\n",
       "  </tbody>\n",
       "</table>\n",
       "</div>"
      ],
      "text/plain": [
       "      index     0\n",
       "0       age  0.15\n",
       "1   default  0.00\n",
       "2      loan  0.00\n",
       "3    income  0.00\n",
       "4  clientid  0.00"
      ]
     },
     "execution_count": 14,
     "metadata": {},
     "output_type": "execute_result"
    }
   ],
   "source": [
    "(df.isnull().sum()* 100 / len(df)).sort_values(ascending=False).head(10).reset_index()"
   ]
  },
  {
   "cell_type": "code",
   "execution_count": 15,
   "metadata": {
    "execution": {
     "iopub.execute_input": "2021-02-06T13:41:54.519809Z",
     "iopub.status.busy": "2021-02-06T13:41:54.519027Z",
     "iopub.status.idle": "2021-02-06T13:41:54.526385Z",
     "shell.execute_reply": "2021-02-06T13:41:54.525680Z"
    },
    "papermill": {
     "duration": 0.075282,
     "end_time": "2021-02-06T13:41:54.526499",
     "exception": false,
     "start_time": "2021-02-06T13:41:54.451217",
     "status": "completed"
    },
    "tags": []
   },
   "outputs": [],
   "source": [
    "df.dropna(inplace=True)"
   ]
  },
  {
   "cell_type": "markdown",
   "metadata": {
    "papermill": {
     "duration": 0.06116,
     "end_time": "2021-02-06T13:41:54.650648",
     "exception": false,
     "start_time": "2021-02-06T13:41:54.589488",
     "status": "completed"
    },
    "tags": []
   },
   "source": [
    "### Data Duplicate Analysis"
   ]
  },
  {
   "cell_type": "code",
   "execution_count": 16,
   "metadata": {
    "execution": {
     "iopub.execute_input": "2021-02-06T13:41:54.787291Z",
     "iopub.status.busy": "2021-02-06T13:41:54.786190Z",
     "iopub.status.idle": "2021-02-06T13:41:54.807249Z",
     "shell.execute_reply": "2021-02-06T13:41:54.806525Z"
    },
    "papermill": {
     "duration": 0.094179,
     "end_time": "2021-02-06T13:41:54.807368",
     "exception": false,
     "start_time": "2021-02-06T13:41:54.713189",
     "status": "completed"
    },
    "tags": []
   },
   "outputs": [
    {
     "data": {
      "text/html": [
       "<div>\n",
       "<style scoped>\n",
       "    .dataframe tbody tr th:only-of-type {\n",
       "        vertical-align: middle;\n",
       "    }\n",
       "\n",
       "    .dataframe tbody tr th {\n",
       "        vertical-align: top;\n",
       "    }\n",
       "\n",
       "    .dataframe thead th {\n",
       "        text-align: right;\n",
       "    }\n",
       "</style>\n",
       "<table border=\"1\" class=\"dataframe\">\n",
       "  <thead>\n",
       "    <tr style=\"text-align: right;\">\n",
       "      <th></th>\n",
       "      <th>3</th>\n",
       "      <th>0</th>\n",
       "      <th>1</th>\n",
       "      <th>2</th>\n",
       "    </tr>\n",
       "  </thead>\n",
       "  <tbody>\n",
       "    <tr>\n",
       "      <th>Feature</th>\n",
       "      <td>default</td>\n",
       "      <td>income</td>\n",
       "      <td>age</td>\n",
       "      <td>loan</td>\n",
       "    </tr>\n",
       "    <tr>\n",
       "      <th>Max duplicates</th>\n",
       "      <td>1714</td>\n",
       "      <td>1</td>\n",
       "      <td>1</td>\n",
       "      <td>1</td>\n",
       "    </tr>\n",
       "    <tr>\n",
       "      <th>Value</th>\n",
       "      <td>0</td>\n",
       "      <td>50719.8</td>\n",
       "      <td>49.5</td>\n",
       "      <td>2365.29</td>\n",
       "    </tr>\n",
       "  </tbody>\n",
       "</table>\n",
       "</div>"
      ],
      "text/plain": [
       "                      3        0     1        2\n",
       "Feature         default   income   age     loan\n",
       "Max duplicates     1714        1     1        1\n",
       "Value                 0  50719.8  49.5  2365.29"
      ]
     },
     "execution_count": 16,
     "metadata": {},
     "output_type": "execute_result"
    }
   ],
   "source": [
    "df.drop(columns=\"clientid\",inplace=True)\n",
    "\n",
    "features = df.columns.values[0:30]\n",
    "unique_max_train = []\n",
    "for feature in features:\n",
    "    values = df[feature].value_counts()\n",
    "    unique_max_train.append([feature, values.max(), values.idxmax()])\n",
    "\n",
    "np.transpose((pd.DataFrame(unique_max_train, columns=['Feature', 'Max duplicates', 'Value'])).\\\n",
    "            sort_values(by = 'Max duplicates', ascending=False).head(15))"
   ]
  },
  {
   "cell_type": "markdown",
   "metadata": {
    "papermill": {
     "duration": 0.062826,
     "end_time": "2021-02-06T13:41:54.933837",
     "exception": false,
     "start_time": "2021-02-06T13:41:54.871011",
     "status": "completed"
    },
    "tags": []
   },
   "source": [
    "#### Value Counts Target"
   ]
  },
  {
   "cell_type": "code",
   "execution_count": 17,
   "metadata": {
    "execution": {
     "iopub.execute_input": "2021-02-06T13:41:55.068519Z",
     "iopub.status.busy": "2021-02-06T13:41:55.067446Z",
     "iopub.status.idle": "2021-02-06T13:41:55.072218Z",
     "shell.execute_reply": "2021-02-06T13:41:55.071613Z"
    },
    "papermill": {
     "duration": 0.074932,
     "end_time": "2021-02-06T13:41:55.072339",
     "exception": false,
     "start_time": "2021-02-06T13:41:54.997407",
     "status": "completed"
    },
    "tags": []
   },
   "outputs": [
    {
     "data": {
      "text/plain": [
       "0    1714\n",
       "1     283\n",
       "Name: default, dtype: int64"
      ]
     },
     "execution_count": 17,
     "metadata": {},
     "output_type": "execute_result"
    }
   ],
   "source": [
    "df['default'].value_counts()"
   ]
  },
  {
   "cell_type": "code",
   "execution_count": 18,
   "metadata": {
    "execution": {
     "iopub.execute_input": "2021-02-06T13:41:55.205475Z",
     "iopub.status.busy": "2021-02-06T13:41:55.204807Z",
     "iopub.status.idle": "2021-02-06T13:41:55.208571Z",
     "shell.execute_reply": "2021-02-06T13:41:55.207932Z"
    },
    "papermill": {
     "duration": 0.07332,
     "end_time": "2021-02-06T13:41:55.208686",
     "exception": false,
     "start_time": "2021-02-06T13:41:55.135366",
     "status": "completed"
    },
    "tags": []
   },
   "outputs": [],
   "source": [
    "train_X = df.drop([\"default\"], axis=1)\n",
    "train_y = np.log1p(df[\"default\"].values)"
   ]
  },
  {
   "cell_type": "markdown",
   "metadata": {},
   "source": [
    "#### Correlation between features"
   ]
  },
  {
   "cell_type": "code",
   "execution_count": 51,
   "metadata": {},
   "outputs": [
    {
     "data": {
      "text/html": [
       "<div>\n",
       "<style scoped>\n",
       "    .dataframe tbody tr th:only-of-type {\n",
       "        vertical-align: middle;\n",
       "    }\n",
       "\n",
       "    .dataframe tbody tr th {\n",
       "        vertical-align: top;\n",
       "    }\n",
       "\n",
       "    .dataframe thead th {\n",
       "        text-align: right;\n",
       "    }\n",
       "</style>\n",
       "<table border=\"1\" class=\"dataframe\">\n",
       "  <thead>\n",
       "    <tr style=\"text-align: right;\">\n",
       "      <th></th>\n",
       "      <th>income</th>\n",
       "      <th>age</th>\n",
       "      <th>loan</th>\n",
       "      <th>default</th>\n",
       "    </tr>\n",
       "  </thead>\n",
       "  <tbody>\n",
       "    <tr>\n",
       "      <th>income</th>\n",
       "      <td>1.000000</td>\n",
       "      <td>-0.033687</td>\n",
       "      <td>0.441539</td>\n",
       "      <td>0.002222</td>\n",
       "    </tr>\n",
       "    <tr>\n",
       "      <th>age</th>\n",
       "      <td>-0.033687</td>\n",
       "      <td>1.000000</td>\n",
       "      <td>0.002309</td>\n",
       "      <td>-0.429759</td>\n",
       "    </tr>\n",
       "    <tr>\n",
       "      <th>loan</th>\n",
       "      <td>0.441539</td>\n",
       "      <td>0.002309</td>\n",
       "      <td>1.000000</td>\n",
       "      <td>0.377169</td>\n",
       "    </tr>\n",
       "    <tr>\n",
       "      <th>default</th>\n",
       "      <td>0.002222</td>\n",
       "      <td>-0.429759</td>\n",
       "      <td>0.377169</td>\n",
       "      <td>1.000000</td>\n",
       "    </tr>\n",
       "  </tbody>\n",
       "</table>\n",
       "</div>"
      ],
      "text/plain": [
       "           income       age      loan   default\n",
       "income   1.000000 -0.033687  0.441539  0.002222\n",
       "age     -0.033687  1.000000  0.002309 -0.429759\n",
       "loan     0.441539  0.002309  1.000000  0.377169\n",
       "default  0.002222 -0.429759  0.377169  1.000000"
      ]
     },
     "execution_count": 51,
     "metadata": {},
     "output_type": "execute_result"
    }
   ],
   "source": [
    "df.corr()"
   ]
  },
  {
   "cell_type": "code",
   "execution_count": 19,
   "metadata": {
    "execution": {
     "iopub.execute_input": "2021-02-06T13:41:55.359302Z",
     "iopub.status.busy": "2021-02-06T13:41:55.353925Z",
     "iopub.status.idle": "2021-02-06T13:41:56.028464Z",
     "shell.execute_reply": "2021-02-06T13:41:56.027933Z"
    },
    "papermill": {
     "duration": 0.75667,
     "end_time": "2021-02-06T13:41:56.028583",
     "exception": false,
     "start_time": "2021-02-06T13:41:55.271913",
     "status": "completed"
    },
    "tags": []
   },
   "outputs": [
    {
     "data": {
      "image/png": "[encoded data removed]",
      "text/plain": [
       "<Figure size 864x864 with 1 Axes>"
      ]
     },
     "metadata": {
      "needs_background": "light"
     },
     "output_type": "display_data"
    }
   ],
   "source": [
    "from sklearn import ensemble\n",
    "model = ensemble.ExtraTreesRegressor(n_estimators=200, max_depth=20, max_features=0.5, n_jobs=-1, random_state=0)\n",
    "model.fit(train_X, train_y)\n",
    "\n",
    "## plotando as importâncias ##\n",
    "feat_names = df.columns.values\n",
    "importances = model.feature_importances_\n",
    "std = np.std([tree.feature_importances_ for tree in model.estimators_], axis=0)\n",
    "indices = np.argsort(importances)[::-1][:20]\n",
    "\n",
    "plt.figure(figsize=(12,12))\n",
    "plt.title(\"Feature importances\")\n",
    "plt.bar(range(len(indices)), importances[indices], color=\"r\", yerr=std[indices], align=\"center\")\n",
    "plt.xticks(range(len(indices)), feat_names[indices], rotation='vertical')\n",
    "plt.xlim([-1, len(indices)])\n",
    "plt.show()"
   ]
  },
  {
   "cell_type": "code",
   "execution_count": 20,
   "metadata": {
    "execution": {
     "iopub.execute_input": "2021-02-06T13:41:56.167825Z",
     "iopub.status.busy": "2021-02-06T13:41:56.167106Z",
     "iopub.status.idle": "2021-02-06T13:41:56.171760Z",
     "shell.execute_reply": "2021-02-06T13:41:56.172301Z"
    },
    "papermill": {
     "duration": 0.079642,
     "end_time": "2021-02-06T13:41:56.172460",
     "exception": false,
     "start_time": "2021-02-06T13:41:56.092818",
     "status": "completed"
    },
    "tags": []
   },
   "outputs": [],
   "source": [
    "def plot_new_feature_distribution(df1, df2, label1, label2, features, n):\n",
    "    i = 0\n",
    "    sns.set_style('whitegrid')\n",
    "    plt.figure()\n",
    "    fig, ax = plt.subplots(2,n,figsize=(18,8))\n",
    "\n",
    "    for feature in features:\n",
    "        i += 1\n",
    "        plt.subplot(2,n,i)\n",
    "        sns.kdeplot(df1[feature], bw=0.5,label=label1)\n",
    "        sns.kdeplot(df2[feature], bw=0.5,label=label2)\n",
    "        plt.xlabel(feature, fontsize=11)\n",
    "        locs, labels = plt.xticks()\n",
    "        plt.tick_params(axis='x', which='major', labelsize=8)\n",
    "        plt.tick_params(axis='y', which='major', labelsize=8)\n",
    "    plt.show();"
   ]
  },
  {
   "cell_type": "markdown",
   "metadata": {
    "papermill": {
     "duration": 0.064328,
     "end_time": "2021-02-06T13:41:56.302131",
     "exception": false,
     "start_time": "2021-02-06T13:41:56.237803",
     "status": "completed"
    },
    "tags": []
   },
   "source": [
    "### Baseline"
   ]
  },
  {
   "cell_type": "code",
   "execution_count": 21,
   "metadata": {
    "execution": {
     "iopub.execute_input": "2021-02-06T13:41:56.438977Z",
     "iopub.status.busy": "2021-02-06T13:41:56.438267Z",
     "iopub.status.idle": "2021-02-06T13:41:56.440893Z",
     "shell.execute_reply": "2021-02-06T13:41:56.441425Z"
    },
    "papermill": {
     "duration": 0.075078,
     "end_time": "2021-02-06T13:41:56.441584",
     "exception": false,
     "start_time": "2021-02-06T13:41:56.366506",
     "status": "completed"
    },
    "tags": []
   },
   "outputs": [],
   "source": [
    "def plot_roc(y_test,prob):\n",
    "    fpr, tpr, thresholds = roc_curve(y_test, probs)\n",
    "    # plot no skill\n",
    "    plt.plot([0, 1], [0, 1], linestyle='--')\n",
    "    # plot the roc curve for the model\n",
    "    plt.plot(fpr, tpr, marker='.')\n",
    "    plt.title(\"ROC curve\")\n",
    "    plt.xlabel('false positive rate')\n",
    "    plt.ylabel('true positive rate')\n",
    "    # show the plot\n",
    "    plt.show()"
   ]
  },
  {
   "cell_type": "code",
   "execution_count": 22,
   "metadata": {
    "execution": {
     "iopub.execute_input": "2021-02-06T13:41:56.584336Z",
     "iopub.status.busy": "2021-02-06T13:41:56.583626Z",
     "iopub.status.idle": "2021-02-06T13:41:56.637500Z",
     "shell.execute_reply": "2021-02-06T13:41:56.638098Z"
    },
    "papermill": {
     "duration": 0.132032,
     "end_time": "2021-02-06T13:41:56.638264",
     "exception": false,
     "start_time": "2021-02-06T13:41:56.506232",
     "status": "completed"
    },
    "tags": []
   },
   "outputs": [
    {
     "name": "stdout",
     "output_type": "stream",
     "text": [
      "roc  0.986772068511199\n"
     ]
    }
   ],
   "source": [
    "def logistic(X,y):\n",
    "    y_train=df['default'].astype('uint8')\n",
    "    X_train,X_test,y_train,y_test=train_test_split(df.drop('default',axis=1),y_train,test_size=.2,random_state=2020)\n",
    "    lr=LogisticRegression()\n",
    "    lr.fit(X_train,y_train)\n",
    "    prob=lr.predict_proba(X_test)\n",
    "    \n",
    "    roc=roc_auc_score(y_test, lr.predict_proba(X_test)[:,1])\n",
    "    print('roc ',roc)\n",
    "\n",
    "    return (prob[:,1],y_test)\n",
    "y_train=df['default'].astype('uint8')\n",
    "probs,y_test=logistic(df.drop('default',axis=1),y_train)"
   ]
  },
  {
   "cell_type": "code",
   "execution_count": 23,
   "metadata": {
    "execution": {
     "iopub.execute_input": "2021-02-06T13:41:56.774024Z",
     "iopub.status.busy": "2021-02-06T13:41:56.773255Z",
     "iopub.status.idle": "2021-02-06T13:41:56.952037Z",
     "shell.execute_reply": "2021-02-06T13:41:56.952674Z"
    },
    "papermill": {
     "duration": 0.248564,
     "end_time": "2021-02-06T13:41:56.952848",
     "exception": false,
     "start_time": "2021-02-06T13:41:56.704284",
     "status": "completed"
    },
    "tags": []
   },
   "outputs": [
    {
     "data": {
      "image/png": "[encoded data removed]",
      "text/plain": [
       "<Figure size 432x288 with 1 Axes>"
      ]
     },
     "metadata": {
      "needs_background": "light"
     },
     "output_type": "display_data"
    }
   ],
   "source": [
    "plot_roc(y_test,probs)"
   ]
  },
  {
   "cell_type": "markdown",
   "metadata": {
    "papermill": {
     "duration": 0.065502,
     "end_time": "2021-02-06T13:41:57.087317",
     "exception": false,
     "start_time": "2021-02-06T13:41:57.021815",
     "status": "completed"
    },
    "tags": []
   },
   "source": [
    "#### *Logistic Regression*"
   ]
  },
  {
   "cell_type": "code",
   "execution_count": 24,
   "metadata": {
    "execution": {
     "iopub.execute_input": "2021-02-06T13:41:57.222030Z",
     "iopub.status.busy": "2021-02-06T13:41:57.221295Z",
     "iopub.status.idle": "2021-02-06T13:41:57.265459Z",
     "shell.execute_reply": "2021-02-06T13:41:57.266244Z"
    },
    "papermill": {
     "duration": 0.113718,
     "end_time": "2021-02-06T13:41:57.266458",
     "exception": false,
     "start_time": "2021-02-06T13:41:57.152740",
     "status": "completed"
    },
    "tags": []
   },
   "outputs": [],
   "source": [
    "train_x, val_x, train_y, val_y=train_test_split(df.drop('default',axis=1),y_train,test_size=.2,random_state=22)\n",
    "\n",
    "clf = LogisticRegression(solver=\"lbfgs\").fit(train_x, train_y)\n",
    "pred_y = clf.predict(val_x)"
   ]
  },
  {
   "cell_type": "code",
   "execution_count": 26,
   "metadata": {},
   "outputs": [
    {
     "data": {
      "text/plain": [
       "0.955"
      ]
     },
     "execution_count": 26,
     "metadata": {},
     "output_type": "execute_result"
    }
   ],
   "source": [
    "accuracy_score(val_y, pred_y)"
   ]
  },
  {
   "cell_type": "code",
   "execution_count": 27,
   "metadata": {
    "execution": {
     "iopub.execute_input": "2021-02-06T13:41:57.411955Z",
     "iopub.status.busy": "2021-02-06T13:41:57.410942Z",
     "iopub.status.idle": "2021-02-06T13:41:57.419636Z",
     "shell.execute_reply": "2021-02-06T13:41:57.419109Z"
    },
    "papermill": {
     "duration": 0.079154,
     "end_time": "2021-02-06T13:41:57.419811",
     "exception": false,
     "start_time": "2021-02-06T13:41:57.340657",
     "status": "completed"
    },
    "tags": []
   },
   "outputs": [
    {
     "data": {
      "text/plain": [
       "0.9051383399209486"
      ]
     },
     "execution_count": 27,
     "metadata": {},
     "output_type": "execute_result"
    }
   ],
   "source": [
    "rocrl=roc_auc_score(val_y, pred_y)\n",
    "rocrl"
   ]
  },
  {
   "cell_type": "code",
   "execution_count": 28,
   "metadata": {
    "execution": {
     "iopub.execute_input": "2021-02-06T13:41:57.559199Z",
     "iopub.status.busy": "2021-02-06T13:41:57.558073Z",
     "iopub.status.idle": "2021-02-06T13:41:57.727473Z",
     "shell.execute_reply": "2021-02-06T13:41:57.728162Z"
    },
    "papermill": {
     "duration": 0.241915,
     "end_time": "2021-02-06T13:41:57.728332",
     "exception": false,
     "start_time": "2021-02-06T13:41:57.486417",
     "status": "completed"
    },
    "tags": []
   },
   "outputs": [
    {
     "data": {
      "image/png": "[encoded data removed]",
      "text/plain": [
       "<Figure size 432x288 with 1 Axes>"
      ]
     },
     "metadata": {
      "needs_background": "light"
     },
     "output_type": "display_data"
    }
   ],
   "source": [
    "plot_roc(val_y, pred_y)"
   ]
  },
  {
   "cell_type": "markdown",
   "metadata": {
    "papermill": {
     "duration": 0.073132,
     "end_time": "2021-02-06T13:41:57.877606",
     "exception": false,
     "start_time": "2021-02-06T13:41:57.804474",
     "status": "completed"
    },
    "tags": []
   },
   "source": [
    "#### *Random Forest Classifier*"
   ]
  },
  {
   "cell_type": "code",
   "execution_count": 29,
   "metadata": {
    "execution": {
     "iopub.execute_input": "2021-02-06T13:41:58.019431Z",
     "iopub.status.busy": "2021-02-06T13:41:58.018371Z",
     "iopub.status.idle": "2021-02-06T13:41:58.615661Z",
     "shell.execute_reply": "2021-02-06T13:41:58.616260Z"
    },
    "papermill": {
     "duration": 0.67055,
     "end_time": "2021-02-06T13:41:58.616413",
     "exception": false,
     "start_time": "2021-02-06T13:41:57.945863",
     "status": "completed"
    },
    "tags": []
   },
   "outputs": [
    {
     "name": "stdout",
     "output_type": "stream",
     "text": [
      "Wall time: 504 ms\n"
     ]
    }
   ],
   "source": [
    "%%time\n",
    "model = RandomForestClassifier(n_estimators=220).fit(train_x,train_y)\n",
    "predictionforest = model.predict(val_x)"
   ]
  },
  {
   "cell_type": "code",
   "execution_count": 30,
   "metadata": {},
   "outputs": [
    {
     "data": {
      "text/plain": [
       "0.9925"
      ]
     },
     "execution_count": 30,
     "metadata": {},
     "output_type": "execute_result"
    }
   ],
   "source": [
    "accuracy_score(val_y, predictionforest)"
   ]
  },
  {
   "cell_type": "code",
   "execution_count": 31,
   "metadata": {
    "execution": {
     "iopub.execute_input": "2021-02-06T13:41:58.761000Z",
     "iopub.status.busy": "2021-02-06T13:41:58.760290Z",
     "iopub.status.idle": "2021-02-06T13:41:58.766726Z",
     "shell.execute_reply": "2021-02-06T13:41:58.765963Z"
    },
    "papermill": {
     "duration": 0.081485,
     "end_time": "2021-02-06T13:41:58.766852",
     "exception": false,
     "start_time": "2021-02-06T13:41:58.685367",
     "status": "completed"
    },
    "tags": []
   },
   "outputs": [
    {
     "name": "stdout",
     "output_type": "stream",
     "text": [
      "roc  0.9727272727272727\n",
      "Wall time: 2.99 ms\n"
     ]
    }
   ],
   "source": [
    "%%time\n",
    "rocrf=roc_auc_score(val_y, predictionforest)\n",
    "print('roc ',rocrf)"
   ]
  },
  {
   "cell_type": "code",
   "execution_count": 32,
   "metadata": {
    "execution": {
     "iopub.execute_input": "2021-02-06T13:41:58.911083Z",
     "iopub.status.busy": "2021-02-06T13:41:58.909994Z",
     "iopub.status.idle": "2021-02-06T13:41:59.084880Z",
     "shell.execute_reply": "2021-02-06T13:41:59.085468Z"
    },
    "papermill": {
     "duration": 0.249027,
     "end_time": "2021-02-06T13:41:59.085626",
     "exception": false,
     "start_time": "2021-02-06T13:41:58.836599",
     "status": "completed"
    },
    "tags": []
   },
   "outputs": [
    {
     "data": {
      "image/png": "[encoded data removed]",
      "text/plain": [
       "<Figure size 432x288 with 1 Axes>"
      ]
     },
     "metadata": {
      "needs_background": "light"
     },
     "output_type": "display_data"
    }
   ],
   "source": [
    "plot_roc(val_y, predictionforest)"
   ]
  },
  {
   "cell_type": "markdown",
   "metadata": {
    "papermill": {
     "duration": 0.074717,
     "end_time": "2021-02-06T13:42:00.094679",
     "exception": false,
     "start_time": "2021-02-06T13:42:00.019962",
     "status": "completed"
    },
    "tags": []
   },
   "source": [
    "## Grid Search CV"
   ]
  },
  {
   "cell_type": "code",
   "execution_count": 37,
   "metadata": {
    "execution": {
     "iopub.execute_input": "2021-02-06T13:42:00.247577Z",
     "iopub.status.busy": "2021-02-06T13:42:00.246863Z",
     "iopub.status.idle": "2021-02-06T13:42:03.025723Z",
     "shell.execute_reply": "2021-02-06T13:42:03.026299Z"
    },
    "papermill": {
     "duration": 2.859633,
     "end_time": "2021-02-06T13:42:03.026464",
     "exception": false,
     "start_time": "2021-02-06T13:42:00.166831",
     "status": "completed"
    },
    "tags": []
   },
   "outputs": [
    {
     "name": "stdout",
     "output_type": "stream",
     "text": [
      "Fitting 5 folds for each of 16 candidates, totalling 80 fits\n"
     ]
    },
    {
     "name": "stderr",
     "output_type": "stream",
     "text": [
      "[Parallel(n_jobs=-1)]: Using backend LokyBackend with 4 concurrent workers.\n"
     ]
    },
    {
     "name": "stdout",
     "output_type": "stream",
     "text": [
      "The best parameters:  {'C': 0.1, 'class_weight': None, 'penalty': 'l2'}\n",
      "Wall time: 3.88 s\n"
     ]
    },
    {
     "name": "stderr",
     "output_type": "stream",
     "text": [
      "[Parallel(n_jobs=-1)]: Done  80 out of  80 | elapsed:    3.7s finished\n"
     ]
    }
   ],
   "source": [
    "%%time\n",
    "# Logistic regression \n",
    "log_cfl = LogisticRegression()\n",
    "\n",
    "param_grid = {\n",
    "            'penalty' : ['l1','l2'], \n",
    "            'class_weight' : ['balanced', None], \n",
    "            'C' : [0.1, 1, 10, 100]\n",
    "            }\n",
    "\n",
    "CV_log_cfl = GridSearchCV(estimator = log_cfl, param_grid = param_grid , scoring = 'roc_auc', verbose = 1, n_jobs = -1)\n",
    "CV_log_cfl.fit(train_x, train_y)\n",
    "\n",
    "best_parameters = CV_log_cfl.best_params_\n",
    "print(\"The best parameters: \", best_parameters)"
   ]
  },
  {
   "cell_type": "markdown",
   "metadata": {
    "papermill": {
     "duration": 0.081027,
     "end_time": "2021-02-06T13:42:03.187323",
     "exception": false,
     "start_time": "2021-02-06T13:42:03.106296",
     "status": "completed"
    },
    "tags": []
   },
   "source": [
    "#### *Logistic Regression*"
   ]
  },
  {
   "cell_type": "code",
   "execution_count": 40,
   "metadata": {
    "execution": {
     "iopub.execute_input": "2021-02-06T13:42:03.359868Z",
     "iopub.status.busy": "2021-02-06T13:42:03.358836Z",
     "iopub.status.idle": "2021-02-06T13:42:03.398985Z",
     "shell.execute_reply": "2021-02-06T13:42:03.399528Z"
    },
    "papermill": {
     "duration": 0.126899,
     "end_time": "2021-02-06T13:42:03.399673",
     "exception": false,
     "start_time": "2021-02-06T13:42:03.272774",
     "status": "completed"
    },
    "tags": []
   },
   "outputs": [],
   "source": [
    "log_cfl = LogisticRegression(C = best_parameters['C'], \n",
    "                             penalty = best_parameters['penalty'], \n",
    "                             class_weight = best_parameters['class_weight'])\n",
    "\n",
    "log_cfl.fit(train_x, train_y)\n",
    "y_scoreLR = log_cfl.decision_function(val_x)"
   ]
  },
  {
   "cell_type": "code",
   "execution_count": 41,
   "metadata": {
    "execution": {
     "iopub.execute_input": "2021-02-06T13:42:03.554218Z",
     "iopub.status.busy": "2021-02-06T13:42:03.553026Z",
     "iopub.status.idle": "2021-02-06T13:42:03.562667Z",
     "shell.execute_reply": "2021-02-06T13:42:03.561859Z"
    },
    "papermill": {
     "duration": 0.08856,
     "end_time": "2021-02-06T13:42:03.562858",
     "exception": false,
     "start_time": "2021-02-06T13:42:03.474298",
     "status": "completed"
    },
    "tags": []
   },
   "outputs": [
    {
     "name": "stdout",
     "output_type": "stream",
     "text": [
      "roc  0.986772068511199\n"
     ]
    }
   ],
   "source": [
    "rocLR=roc_auc_score(val_y, y_scoreLR)\n",
    "print('roc ',rocLR)"
   ]
  },
  {
   "cell_type": "code",
   "execution_count": 42,
   "metadata": {
    "execution": {
     "iopub.execute_input": "2021-02-06T13:42:03.731854Z",
     "iopub.status.busy": "2021-02-06T13:42:03.730335Z",
     "iopub.status.idle": "2021-02-06T13:42:03.910144Z",
     "shell.execute_reply": "2021-02-06T13:42:03.909546Z"
    },
    "papermill": {
     "duration": 0.271161,
     "end_time": "2021-02-06T13:42:03.910272",
     "exception": false,
     "start_time": "2021-02-06T13:42:03.639111",
     "status": "completed"
    },
    "tags": []
   },
   "outputs": [
    {
     "data": {
      "image/png": "[encoded data removed]",
      "text/plain": [
       "<Figure size 432x288 with 1 Axes>"
      ]
     },
     "metadata": {
      "needs_background": "light"
     },
     "output_type": "display_data"
    }
   ],
   "source": [
    "plot_roc(val_y, y_scoreLR)"
   ]
  },
  {
   "cell_type": "markdown",
   "metadata": {
    "papermill": {
     "duration": 0.075293,
     "end_time": "2021-02-06T13:42:04.061407",
     "exception": false,
     "start_time": "2021-02-06T13:42:03.986114",
     "status": "completed"
    },
    "tags": []
   },
   "source": [
    "#### *Random Forest Classifier*"
   ]
  },
  {
   "cell_type": "code",
   "execution_count": 43,
   "metadata": {
    "execution": {
     "iopub.execute_input": "2021-02-06T13:42:04.220201Z",
     "iopub.status.busy": "2021-02-06T13:42:04.219112Z",
     "iopub.status.idle": "2021-02-06T13:42:04.526763Z",
     "shell.execute_reply": "2021-02-06T13:42:04.526079Z"
    },
    "papermill": {
     "duration": 0.389969,
     "end_time": "2021-02-06T13:42:04.526879",
     "exception": false,
     "start_time": "2021-02-06T13:42:04.136910",
     "status": "completed"
    },
    "tags": []
   },
   "outputs": [],
   "source": [
    "rf_cfl = RandomForestClassifier(n_estimators=120).fit(train_x, train_y)"
   ]
  },
  {
   "cell_type": "code",
   "execution_count": 44,
   "metadata": {
    "execution": {
     "iopub.execute_input": "2021-02-06T13:42:04.688039Z",
     "iopub.status.busy": "2021-02-06T13:42:04.687049Z",
     "iopub.status.idle": "2021-02-06T13:42:41.035242Z",
     "shell.execute_reply": "2021-02-06T13:42:41.034492Z"
    },
    "papermill": {
     "duration": 36.433855,
     "end_time": "2021-02-06T13:42:41.035364",
     "exception": false,
     "start_time": "2021-02-06T13:42:04.601509",
     "status": "completed"
    },
    "tags": []
   },
   "outputs": [
    {
     "name": "stdout",
     "output_type": "stream",
     "text": [
      "Fitting 5 folds for each of 54 candidates, totalling 270 fits\n"
     ]
    },
    {
     "name": "stderr",
     "output_type": "stream",
     "text": [
      "[Parallel(n_jobs=-1)]: Using backend LokyBackend with 4 concurrent workers.\n",
      "[Parallel(n_jobs=-1)]: Done   5 tasks      | elapsed:    0.6s\n",
      "[Parallel(n_jobs=-1)]: Done  10 tasks      | elapsed:    1.3s\n",
      "[Parallel(n_jobs=-1)]: Done  17 tasks      | elapsed:    2.3s\n",
      "[Parallel(n_jobs=-1)]: Done  24 tasks      | elapsed:    3.0s\n",
      "[Parallel(n_jobs=-1)]: Done  33 tasks      | elapsed:    4.3s\n",
      "[Parallel(n_jobs=-1)]: Done  42 tasks      | elapsed:    5.6s\n",
      "[Parallel(n_jobs=-1)]: Done  53 tasks      | elapsed:    6.7s\n",
      "[Parallel(n_jobs=-1)]: Done  64 tasks      | elapsed:    8.1s\n",
      "[Parallel(n_jobs=-1)]: Done  77 tasks      | elapsed:    9.8s\n",
      "[Parallel(n_jobs=-1)]: Done  90 tasks      | elapsed:   11.4s\n",
      "[Parallel(n_jobs=-1)]: Done 105 tasks      | elapsed:   13.2s\n",
      "[Parallel(n_jobs=-1)]: Done 120 tasks      | elapsed:   15.1s\n",
      "[Parallel(n_jobs=-1)]: Done 137 tasks      | elapsed:   17.0s\n",
      "[Parallel(n_jobs=-1)]: Done 154 tasks      | elapsed:   19.5s\n",
      "[Parallel(n_jobs=-1)]: Done 173 tasks      | elapsed:   22.0s\n",
      "[Parallel(n_jobs=-1)]: Done 192 tasks      | elapsed:   24.7s\n",
      "[Parallel(n_jobs=-1)]: Done 213 tasks      | elapsed:   27.1s\n",
      "[Parallel(n_jobs=-1)]: Done 234 tasks      | elapsed:   29.8s\n",
      "[Parallel(n_jobs=-1)]: Done 257 tasks      | elapsed:   32.9s\n",
      "[Parallel(n_jobs=-1)]: Done 270 out of 270 | elapsed:   34.9s finished\n"
     ]
    },
    {
     "name": "stdout",
     "output_type": "stream",
     "text": [
      "The best parameters:  {'max_features': 2, 'min_samples_leaf': 1, 'min_samples_split': 2, 'n_estimators': 200}\n"
     ]
    }
   ],
   "source": [
    "param_grid = {\n",
    "            'n_estimators': [50, 100, 200],\n",
    "            'max_features': [2, 3],\n",
    "            'min_samples_leaf': [1, 2, 4],\n",
    "            'min_samples_split': [2, 5, 10]\n",
    "            }\n",
    "\n",
    "CV_rnd_cfl = GridSearchCV(estimator = rf_cfl, param_grid = param_grid, scoring = 'roc_auc', verbose = 10, n_jobs = -1)\n",
    "CV_rnd_cfl.fit(train_x, train_y)\n",
    "\n",
    "best_parameters = CV_rnd_cfl.best_params_\n",
    "print(\"The best parameters: \", best_parameters)"
   ]
  },
  {
   "cell_type": "code",
   "execution_count": 45,
   "metadata": {
    "execution": {
     "iopub.execute_input": "2021-02-06T13:42:41.210688Z",
     "iopub.status.busy": "2021-02-06T13:42:41.210036Z",
     "iopub.status.idle": "2021-02-06T13:42:41.813931Z",
     "shell.execute_reply": "2021-02-06T13:42:41.814496Z"
    },
    "papermill": {
     "duration": 0.696246,
     "end_time": "2021-02-06T13:42:41.814650",
     "exception": false,
     "start_time": "2021-02-06T13:42:41.118404",
     "status": "completed"
    },
    "tags": []
   },
   "outputs": [],
   "source": [
    "rf_cfl = RandomForestClassifier(n_estimators = best_parameters['n_estimators'], \n",
    "                                 max_features = best_parameters['max_features'],  \n",
    "                                 min_samples_leaf = best_parameters['min_samples_leaf'],  \n",
    "                                 min_samples_split = 5)\n",
    "rf_cfl.fit(train_x, train_y)\n",
    "y_score = rf_cfl.predict_proba(val_x)[:,1]"
   ]
  },
  {
   "cell_type": "code",
   "execution_count": 46,
   "metadata": {
    "execution": {
     "iopub.execute_input": "2021-02-06T13:42:41.984315Z",
     "iopub.status.busy": "2021-02-06T13:42:41.983539Z",
     "iopub.status.idle": "2021-02-06T13:42:41.991032Z",
     "shell.execute_reply": "2021-02-06T13:42:41.991608Z"
    },
    "papermill": {
     "duration": 0.093888,
     "end_time": "2021-02-06T13:42:41.991803",
     "exception": false,
     "start_time": "2021-02-06T13:42:41.897915",
     "status": "completed"
    },
    "tags": []
   },
   "outputs": [
    {
     "name": "stdout",
     "output_type": "stream",
     "text": [
      "roc  0.9999472990777338\n"
     ]
    }
   ],
   "source": [
    "rocRF=roc_auc_score(val_y, y_score)\n",
    "print('roc ',rocRF)"
   ]
  },
  {
   "cell_type": "code",
   "execution_count": 40,
   "metadata": {
    "execution": {
     "iopub.execute_input": "2021-02-06T13:42:42.163871Z",
     "iopub.status.busy": "2021-02-06T13:42:42.163152Z",
     "iopub.status.idle": "2021-02-06T13:42:42.333012Z",
     "shell.execute_reply": "2021-02-06T13:42:42.333673Z"
    },
    "papermill": {
     "duration": 0.257177,
     "end_time": "2021-02-06T13:42:42.333844",
     "exception": false,
     "start_time": "2021-02-06T13:42:42.076667",
     "status": "completed"
    },
    "tags": []
   },
   "outputs": [
    {
     "data": {
      "image/png": "[encoded data removed]",
      "text/plain": [
       "<Figure size 432x288 with 1 Axes>"
      ]
     },
     "metadata": {
      "needs_background": "light"
     },
     "output_type": "display_data"
    }
   ],
   "source": [
    "plot_roc(val_y, y_score)"
   ]
  },
  {
   "cell_type": "code",
   "execution_count": null,
   "metadata": {},
   "outputs": [],
   "source": []
  },
  {
   "cell_type": "code",
   "execution_count": null,
   "metadata": {},
   "outputs": [],
   "source": []
  },
  {
   "cell_type": "code",
   "execution_count": null,
   "metadata": {},
   "outputs": [],
   "source": []
  },
  {
   "cell_type": "code",
   "execution_count": null,
   "metadata": {},
   "outputs": [],
   "source": []
  }
 ],
 "metadata": {
  "kernelspec": {
   "display_name": "Python 3",
   "language": "python",
   "name": "python3"
  },
  "language_info": {
   "codemirror_mode": {
    "name": "ipython",
    "version": 3
   },
   "file_extension": ".py",
   "mimetype": "text/x-python",
   "name": "python",
   "nbconvert_exporter": "python",
   "pygments_lexer": "ipython3",
   "version": "3.8.3"
  },
  "papermill": {
   "duration": 69.839953,
   "end_time": "2021-02-06T13:42:48.649914",
   "environment_variables": {},
   "exception": null,
   "input_path": "__notebook__.ipynb",
   "output_path": "__notebook__.ipynb",
   "parameters": {},
   "start_time": "2021-02-06T13:41:38.809961",
   "version": "2.1.0"
  }
 },
 "nbformat": 4,
 "nbformat_minor": 4
}
