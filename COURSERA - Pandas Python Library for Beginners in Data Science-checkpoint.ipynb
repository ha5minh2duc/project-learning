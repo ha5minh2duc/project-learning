{
 "cells": [
  {
   "cell_type": "markdown",
   "metadata": {
    "colab_type": "text",
    "id": "KCoGvh8BKdk6"
   },
   "source": [
    "# <center>Pandas Python Library for Beginners in Data Science\n",
    "#### <center>Instructor: Vinita Silaparasetty"
   ]
  },
  {
   "cell_type": "markdown",
   "metadata": {
    "colab_type": "text",
    "id": "ld-AxEPgKdk8"
   },
   "source": [
    "### Import Libraries"
   ]
  },
  {
   "cell_type": "code",
   "execution_count": 13,
   "metadata": {
    "colab": {},
    "colab_type": "code",
    "id": "ocAmpkPRKdk9"
   },
   "outputs": [],
   "source": [
    "import numpy  as np\n",
    "import pandas as pd   "
   ]
  },
  {
   "cell_type": "markdown",
   "metadata": {
    "colab_type": "text",
    "id": "2Ofz0_DyKdlD"
   },
   "source": [
    "# <center> Creating a Series"
   ]
  },
  {
   "cell_type": "markdown",
   "metadata": {
    "colab_type": "text",
    "id": "SbYyYRUSKdlE"
   },
   "source": [
    "<img src=\"https://github.com/VinitaSilaparasetty/Coursera-Pandas-for-Beginners/blob/master/Media/series.png?raw=true\" width=\"600\" height=\"600\">\n"
   ]
  },
  {
   "cell_type": "markdown",
   "metadata": {
    "colab_type": "text",
    "id": "3P5hT6izKdlE"
   },
   "source": [
    "### <center> Method 1: Using an Array"
   ]
  },
  {
   "cell_type": "code",
   "execution_count": 4,
   "metadata": {
    "colab": {},
    "colab_type": "code",
    "id": "tsb5Ea90KdlF"
   },
   "outputs": [
    {
     "data": {
      "text/plain": [
       "0                   1\n",
       "1                 NaN\n",
       "2     Pandas Library \n",
       "dtype: object"
      ]
     },
     "execution_count": 4,
     "metadata": {},
     "output_type": "execute_result"
    }
   ],
   "source": [
    "s  = ([1, np.nan, ' Pandas Library '])\n",
    "s1 = pd.Series(s)\n",
    "s1"
   ]
  },
  {
   "cell_type": "markdown",
   "metadata": {
    "colab_type": "text",
    "id": "6EgyYUF1KdlI"
   },
   "source": [
    "## <center>🏆 Challenge"
   ]
  },
  {
   "cell_type": "markdown",
   "metadata": {
    "colab_type": "text",
    "id": "oQknrXEeKdlI"
   },
   "source": [
    "Create a Pandas Series, named s2, containing the following:\n",
    "\n",
    "* Integer = 2\n",
    "\n",
    "* Nan value\n",
    "\n",
    "* Character = b"
   ]
  },
  {
   "cell_type": "code",
   "execution_count": 6,
   "metadata": {
    "colab": {},
    "colab_type": "code",
    "id": "4FA6SXTiKdlJ"
   },
   "outputs": [
    {
     "data": {
      "text/plain": [
       "0      2\n",
       "1    nan\n",
       "2      b\n",
       "dtype: object"
      ]
     },
     "execution_count": 6,
     "metadata": {},
     "output_type": "execute_result"
    }
   ],
   "source": [
    "s2 = np.array([2, np.nan, 'b'])\n",
    "s2 = pd.Series(s2)\n",
    "s2"
   ]
  },
  {
   "cell_type": "markdown",
   "metadata": {
    "colab_type": "text",
    "id": "uD33CcL2KdlM"
   },
   "source": [
    "### <center> Method 2: Using a List"
   ]
  },
  {
   "cell_type": "code",
   "execution_count": 7,
   "metadata": {
    "colab": {},
    "colab_type": "code",
    "id": "WbmqTnqpKdlM"
   },
   "outputs": [
    {
     "data": {
      "text/plain": [
       "0    animal\n",
       "1         2\n",
       "2    animal\n",
       "dtype: object"
      ]
     },
     "execution_count": 7,
     "metadata": {},
     "output_type": "execute_result"
    }
   ],
   "source": [
    "list1 = ['animal', '2', 'animal']\n",
    "s3 = pd.Series(list1)\n",
    "s3"
   ]
  },
  {
   "cell_type": "markdown",
   "metadata": {
    "colab_type": "text",
    "id": "7gXdU6rWKdlS"
   },
   "source": [
    "## <center>🏆 Challenge"
   ]
  },
  {
   "cell_type": "markdown",
   "metadata": {
    "colab_type": "text",
    "id": "GdViOvQ2KdlS"
   },
   "source": [
    "Create a Pandas Series, named s4.\n",
    "Use a list, named list2, containing the following:\n",
    "\n",
    "* Integer = 3\n",
    "\n",
    "* Character = c\n",
    "\n",
    "* String = Numpy \n",
    "\n",
    "Note:'N' Must be capital"
   ]
  },
  {
   "cell_type": "code",
   "execution_count": 8,
   "metadata": {
    "colab": {},
    "colab_type": "code",
    "id": "1Wj8jpxWKdlT"
   },
   "outputs": [
    {
     "data": {
      "text/plain": [
       "0        3\n",
       "1        c\n",
       "2    Numpy\n",
       "dtype: object"
      ]
     },
     "execution_count": 8,
     "metadata": {},
     "output_type": "execute_result"
    }
   ],
   "source": [
    "list2 = [3, 'c', 'Numpy']\n",
    "s4 = pd.Series(list2)\n",
    "s4"
   ]
  },
  {
   "cell_type": "markdown",
   "metadata": {
    "colab_type": "text",
    "id": "fcErTl3qKdlW"
   },
   "source": [
    "### <center> Method 3: Using a Dictionary"
   ]
  },
  {
   "cell_type": "code",
   "execution_count": 9,
   "metadata": {
    "colab": {},
    "colab_type": "code",
    "id": "ThVGkJpdKdlX"
   },
   "outputs": [
    {
     "data": {
      "text/plain": [
       "A         1\n",
       "3    Python\n",
       "dtype: object"
      ]
     },
     "execution_count": 9,
     "metadata": {},
     "output_type": "execute_result"
    }
   ],
   "source": [
    "s5 = pd.Series(\n",
    "      {'A': 1,\n",
    "       '3':'Python'\n",
    "      })\n",
    "s5"
   ]
  },
  {
   "cell_type": "markdown",
   "metadata": {
    "colab_type": "text",
    "id": "VJJSuF2UKdla"
   },
   "source": [
    "## <center>🏆 Challenge"
   ]
  },
  {
   "cell_type": "markdown",
   "metadata": {
    "colab_type": "text",
    "id": "qwY80G7xKdlb"
   },
   "source": [
    "Create a Pandas Series, named s6, containing the following:\n",
    "\n",
    "* 'Integer' = 3\n",
    "* 'B' = Boys\n"
   ]
  },
  {
   "cell_type": "code",
   "execution_count": 10,
   "metadata": {
    "colab": {},
    "colab_type": "code",
    "id": "6N4D3ni_Kdlb"
   },
   "outputs": [
    {
     "data": {
      "text/plain": [
       "Integer       3\n",
       "B          Boys\n",
       "dtype: object"
      ]
     },
     "execution_count": 10,
     "metadata": {},
     "output_type": "execute_result"
    }
   ],
   "source": [
    "s6 = pd.Series(\n",
    "      {'Integer': 3,\n",
    "       'B'      : 'Boys'\n",
    "      })\n",
    "s6"
   ]
  },
  {
   "cell_type": "markdown",
   "metadata": {
    "colab_type": "text",
    "id": "UvjvQy9nKdle"
   },
   "source": [
    "# <center> Creating Data Frames"
   ]
  },
  {
   "cell_type": "markdown",
   "metadata": {
    "colab_type": "text",
    "id": "OirhnVKZKdlf"
   },
   "source": [
    "<img src=\"https://github.com/VinitaSilaparasetty/Coursera-Pandas-for-Beginners/blob/master/Media/dataframe.gif?raw=true\" width=\"600\" height=\"600\">"
   ]
  },
  {
   "cell_type": "markdown",
   "metadata": {
    "colab_type": "text",
    "id": "OYecM5C4Kdlh"
   },
   "source": [
    "### <center> Method 1: Passing a Numpy Array"
   ]
  },
  {
   "cell_type": "code",
   "execution_count": 15,
   "metadata": {
    "colab": {},
    "colab_type": "code",
    "id": "siDIHrk5Kdlh"
   },
   "outputs": [
    {
     "data": {
      "text/html": [
       "<div>\n",
       "<style scoped>\n",
       "    .dataframe tbody tr th:only-of-type {\n",
       "        vertical-align: middle;\n",
       "    }\n",
       "\n",
       "    .dataframe tbody tr th {\n",
       "        vertical-align: top;\n",
       "    }\n",
       "\n",
       "    .dataframe thead th {\n",
       "        text-align: right;\n",
       "    }\n",
       "</style>\n",
       "<table border=\"1\" class=\"dataframe\">\n",
       "  <thead>\n",
       "    <tr style=\"text-align: right;\">\n",
       "      <th></th>\n",
       "      <th>0</th>\n",
       "      <th>1</th>\n",
       "      <th>2</th>\n",
       "      <th>3</th>\n",
       "    </tr>\n",
       "  </thead>\n",
       "  <tbody>\n",
       "    <tr>\n",
       "      <th>0</th>\n",
       "      <td>0.046073</td>\n",
       "      <td>0.802447</td>\n",
       "      <td>0.695653</td>\n",
       "      <td>0.719335</td>\n",
       "    </tr>\n",
       "    <tr>\n",
       "      <th>1</th>\n",
       "      <td>0.190992</td>\n",
       "      <td>0.085872</td>\n",
       "      <td>0.285757</td>\n",
       "      <td>0.994109</td>\n",
       "    </tr>\n",
       "    <tr>\n",
       "      <th>2</th>\n",
       "      <td>0.226583</td>\n",
       "      <td>0.635553</td>\n",
       "      <td>0.042033</td>\n",
       "      <td>0.626852</td>\n",
       "    </tr>\n",
       "    <tr>\n",
       "      <th>3</th>\n",
       "      <td>0.429564</td>\n",
       "      <td>0.036048</td>\n",
       "      <td>0.380050</td>\n",
       "      <td>0.658620</td>\n",
       "    </tr>\n",
       "    <tr>\n",
       "      <th>4</th>\n",
       "      <td>0.802257</td>\n",
       "      <td>0.111283</td>\n",
       "      <td>0.230772</td>\n",
       "      <td>0.521904</td>\n",
       "    </tr>\n",
       "    <tr>\n",
       "      <th>5</th>\n",
       "      <td>0.558487</td>\n",
       "      <td>0.987202</td>\n",
       "      <td>0.756982</td>\n",
       "      <td>0.659992</td>\n",
       "    </tr>\n",
       "  </tbody>\n",
       "</table>\n",
       "</div>"
      ],
      "text/plain": [
       "          0         1         2         3\n",
       "0  0.046073  0.802447  0.695653  0.719335\n",
       "1  0.190992  0.085872  0.285757  0.994109\n",
       "2  0.226583  0.635553  0.042033  0.626852\n",
       "3  0.429564  0.036048  0.380050  0.658620\n",
       "4  0.802257  0.111283  0.230772  0.521904\n",
       "5  0.558487  0.987202  0.756982  0.659992"
      ]
     },
     "execution_count": 15,
     "metadata": {},
     "output_type": "execute_result"
    }
   ],
   "source": [
    "df = pd.DataFrame(np.random.rand(6,4))  # 6x4 \n",
    "df"
   ]
  },
  {
   "cell_type": "markdown",
   "metadata": {
    "colab_type": "text",
    "id": "IMz9JGVqKdlk"
   },
   "source": [
    "## <center>🏆 Challenge"
   ]
  },
  {
   "cell_type": "markdown",
   "metadata": {
    "colab_type": "text",
    "id": "SpsBwi3eKdll"
   },
   "source": [
    "Create a data frame, named df1, which contains:\n",
    "\n",
    "* A randomly generated array with the dimensions 3x3.\n"
   ]
  },
  {
   "cell_type": "code",
   "execution_count": 16,
   "metadata": {
    "colab": {},
    "colab_type": "code",
    "id": "gla4tyT7Kdlm"
   },
   "outputs": [
    {
     "data": {
      "text/html": [
       "<div>\n",
       "<style scoped>\n",
       "    .dataframe tbody tr th:only-of-type {\n",
       "        vertical-align: middle;\n",
       "    }\n",
       "\n",
       "    .dataframe tbody tr th {\n",
       "        vertical-align: top;\n",
       "    }\n",
       "\n",
       "    .dataframe thead th {\n",
       "        text-align: right;\n",
       "    }\n",
       "</style>\n",
       "<table border=\"1\" class=\"dataframe\">\n",
       "  <thead>\n",
       "    <tr style=\"text-align: right;\">\n",
       "      <th></th>\n",
       "      <th>0</th>\n",
       "      <th>1</th>\n",
       "      <th>2</th>\n",
       "    </tr>\n",
       "  </thead>\n",
       "  <tbody>\n",
       "    <tr>\n",
       "      <th>0</th>\n",
       "      <td>0.335991</td>\n",
       "      <td>0.351714</td>\n",
       "      <td>0.794295</td>\n",
       "    </tr>\n",
       "    <tr>\n",
       "      <th>1</th>\n",
       "      <td>0.077310</td>\n",
       "      <td>0.158227</td>\n",
       "      <td>0.711047</td>\n",
       "    </tr>\n",
       "    <tr>\n",
       "      <th>2</th>\n",
       "      <td>0.943157</td>\n",
       "      <td>0.028818</td>\n",
       "      <td>0.247926</td>\n",
       "    </tr>\n",
       "  </tbody>\n",
       "</table>\n",
       "</div>"
      ],
      "text/plain": [
       "          0         1         2\n",
       "0  0.335991  0.351714  0.794295\n",
       "1  0.077310  0.158227  0.711047\n",
       "2  0.943157  0.028818  0.247926"
      ]
     },
     "execution_count": 16,
     "metadata": {},
     "output_type": "execute_result"
    }
   ],
   "source": [
    "df1 = pd.DataFrame(np.random.rand(3,3))\n",
    "df1"
   ]
  },
  {
   "cell_type": "markdown",
   "metadata": {
    "colab_type": "text",
    "id": "I1KbMG7rKdlq"
   },
   "source": [
    "### <center> Method 2: Passing a Dictionary of Objects"
   ]
  },
  {
   "cell_type": "code",
   "execution_count": 19,
   "metadata": {
    "colab": {},
    "colab_type": "code",
    "id": "dye9T8WMKdlq"
   },
   "outputs": [
    {
     "data": {
      "text/html": [
       "<div>\n",
       "<style scoped>\n",
       "    .dataframe tbody tr th:only-of-type {\n",
       "        vertical-align: middle;\n",
       "    }\n",
       "\n",
       "    .dataframe tbody tr th {\n",
       "        vertical-align: top;\n",
       "    }\n",
       "\n",
       "    .dataframe thead th {\n",
       "        text-align: right;\n",
       "    }\n",
       "</style>\n",
       "<table border=\"1\" class=\"dataframe\">\n",
       "  <thead>\n",
       "    <tr style=\"text-align: right;\">\n",
       "      <th></th>\n",
       "      <th>A</th>\n",
       "      <th>number</th>\n",
       "    </tr>\n",
       "  </thead>\n",
       "  <tbody>\n",
       "    <tr>\n",
       "      <th>0</th>\n",
       "      <td>1</td>\n",
       "      <td>6</td>\n",
       "    </tr>\n",
       "    <tr>\n",
       "      <th>1</th>\n",
       "      <td>1</td>\n",
       "      <td>6</td>\n",
       "    </tr>\n",
       "    <tr>\n",
       "      <th>2</th>\n",
       "      <td>1</td>\n",
       "      <td>6</td>\n",
       "    </tr>\n",
       "  </tbody>\n",
       "</table>\n",
       "</div>"
      ],
      "text/plain": [
       "   A  number\n",
       "0  1       6\n",
       "1  1       6\n",
       "2  1       6"
      ]
     },
     "execution_count": 19,
     "metadata": {},
     "output_type": "execute_result"
    }
   ],
   "source": [
    "df2 = pd.DataFrame({\n",
    "      'A'     : 1,\n",
    "      'number': np.array([6]*3, dtype='int32')\n",
    "})\n",
    "df2"
   ]
  },
  {
   "cell_type": "markdown",
   "metadata": {
    "colab_type": "text",
    "id": "o8Q8XGUZKdlt"
   },
   "source": [
    "## <center>🏆 Challenge"
   ]
  },
  {
   "cell_type": "markdown",
   "metadata": {
    "colab_type": "text",
    "id": "rKldfWrdKdlu"
   },
   "source": [
    "Create a data frame, named df3, which contains:\n",
    "\n",
    "* 'E' = np.array([4] * 5,dtype='int32')\n",
    "\n",
    "* 'Day' = 2"
   ]
  },
  {
   "cell_type": "code",
   "execution_count": 20,
   "metadata": {
    "colab": {},
    "colab_type": "code",
    "id": "6Itupb7_Kdlu"
   },
   "outputs": [
    {
     "data": {
      "text/html": [
       "<div>\n",
       "<style scoped>\n",
       "    .dataframe tbody tr th:only-of-type {\n",
       "        vertical-align: middle;\n",
       "    }\n",
       "\n",
       "    .dataframe tbody tr th {\n",
       "        vertical-align: top;\n",
       "    }\n",
       "\n",
       "    .dataframe thead th {\n",
       "        text-align: right;\n",
       "    }\n",
       "</style>\n",
       "<table border=\"1\" class=\"dataframe\">\n",
       "  <thead>\n",
       "    <tr style=\"text-align: right;\">\n",
       "      <th></th>\n",
       "      <th>E</th>\n",
       "      <th>Day</th>\n",
       "    </tr>\n",
       "  </thead>\n",
       "  <tbody>\n",
       "    <tr>\n",
       "      <th>0</th>\n",
       "      <td>4</td>\n",
       "      <td>2</td>\n",
       "    </tr>\n",
       "    <tr>\n",
       "      <th>1</th>\n",
       "      <td>4</td>\n",
       "      <td>2</td>\n",
       "    </tr>\n",
       "    <tr>\n",
       "      <th>2</th>\n",
       "      <td>4</td>\n",
       "      <td>2</td>\n",
       "    </tr>\n",
       "    <tr>\n",
       "      <th>3</th>\n",
       "      <td>4</td>\n",
       "      <td>2</td>\n",
       "    </tr>\n",
       "    <tr>\n",
       "      <th>4</th>\n",
       "      <td>4</td>\n",
       "      <td>2</td>\n",
       "    </tr>\n",
       "  </tbody>\n",
       "</table>\n",
       "</div>"
      ],
      "text/plain": [
       "   E  Day\n",
       "0  4    2\n",
       "1  4    2\n",
       "2  4    2\n",
       "3  4    2\n",
       "4  4    2"
      ]
     },
     "execution_count": 20,
     "metadata": {},
     "output_type": "execute_result"
    }
   ],
   "source": [
    "df3 = pd.DataFrame({\n",
    "    'E'  : np.array([4]*5, dtype='int32'),\n",
    "    'Day': 2\n",
    "})\n",
    "df3"
   ]
  },
  {
   "cell_type": "markdown",
   "metadata": {
    "colab_type": "text",
    "id": "3R3OkHq4Kdlx"
   },
   "source": [
    "--------"
   ]
  },
  {
   "cell_type": "markdown",
   "metadata": {
    "colab_type": "text",
    "id": "M5AaQ2rDKdly"
   },
   "source": [
    "## <center> Importing Files"
   ]
  },
  {
   "cell_type": "markdown",
   "metadata": {
    "colab_type": "text",
    "id": "jo9Gd6kqKdlz"
   },
   "source": [
    "### Import .csv files\n",
    "\n",
    "Use the file path: /home/rhyme/Desktop/Project/\n",
    "\n",
    "(Note: If you want to use this command for a file on your own system, be sure to use the correct file path.)"
   ]
  },
  {
   "cell_type": "code",
   "execution_count": 23,
   "metadata": {
    "colab": {},
    "colab_type": "code",
    "id": "SmwNmKeyKdlz"
   },
   "outputs": [
    {
     "data": {
      "text/html": [
       "<div>\n",
       "<style scoped>\n",
       "    .dataframe tbody tr th:only-of-type {\n",
       "        vertical-align: middle;\n",
       "    }\n",
       "\n",
       "    .dataframe tbody tr th {\n",
       "        vertical-align: top;\n",
       "    }\n",
       "\n",
       "    .dataframe thead th {\n",
       "        text-align: right;\n",
       "    }\n",
       "</style>\n",
       "<table border=\"1\" class=\"dataframe\">\n",
       "  <thead>\n",
       "    <tr style=\"text-align: right;\">\n",
       "      <th></th>\n",
       "      <th>A</th>\n",
       "      <th>B</th>\n",
       "      <th>C</th>\n",
       "      <th>D</th>\n",
       "    </tr>\n",
       "  </thead>\n",
       "  <tbody>\n",
       "    <tr>\n",
       "      <th>0</th>\n",
       "      <td>NaN</td>\n",
       "      <td>-1.604969</td>\n",
       "      <td>-0.106263</td>\n",
       "      <td>-1.002924</td>\n",
       "    </tr>\n",
       "    <tr>\n",
       "      <th>1</th>\n",
       "      <td>-0.404667</td>\n",
       "      <td>0.458565</td>\n",
       "      <td>-1.174912</td>\n",
       "      <td>NaN</td>\n",
       "    </tr>\n",
       "    <tr>\n",
       "      <th>2</th>\n",
       "      <td>0.440231</td>\n",
       "      <td>1.713480</td>\n",
       "      <td>0.162473</td>\n",
       "      <td>-1.632132</td>\n",
       "    </tr>\n",
       "  </tbody>\n",
       "</table>\n",
       "</div>"
      ],
      "text/plain": [
       "          A         B         C         D\n",
       "0       NaN -1.604969 -0.106263 -1.002924\n",
       "1 -0.404667  0.458565 -1.174912       NaN\n",
       "2  0.440231  1.713480  0.162473 -1.632132"
      ]
     },
     "execution_count": 23,
     "metadata": {},
     "output_type": "execute_result"
    }
   ],
   "source": [
    "df4 = pd.read_csv('practicedata.csv')\n",
    "df4.head(3)"
   ]
  },
  {
   "cell_type": "markdown",
   "metadata": {
    "colab_type": "text",
    "id": "uCGTYpgnKdl2"
   },
   "source": [
    "-----------------"
   ]
  },
  {
   "cell_type": "markdown",
   "metadata": {
    "colab_type": "text",
    "id": "YnNKzbKEKdl2"
   },
   "source": [
    "## <center>🏆 Challenge\n",
    "    \n",
    "Import the file practicedata.json in the dataframe df5.\n",
    "\n",
    "Use the file path: /home/rhyme/Desktop/Project/"
   ]
  },
  {
   "cell_type": "code",
   "execution_count": 25,
   "metadata": {
    "colab": {},
    "colab_type": "code",
    "id": "oGc5QRJvKdl4"
   },
   "outputs": [
    {
     "data": {
      "text/html": [
       "<div>\n",
       "<style scoped>\n",
       "    .dataframe tbody tr th:only-of-type {\n",
       "        vertical-align: middle;\n",
       "    }\n",
       "\n",
       "    .dataframe tbody tr th {\n",
       "        vertical-align: top;\n",
       "    }\n",
       "\n",
       "    .dataframe thead th {\n",
       "        text-align: right;\n",
       "    }\n",
       "</style>\n",
       "<table border=\"1\" class=\"dataframe\">\n",
       "  <thead>\n",
       "    <tr style=\"text-align: right;\">\n",
       "      <th></th>\n",
       "      <th>A</th>\n",
       "      <th>B</th>\n",
       "      <th>C</th>\n",
       "      <th>D</th>\n",
       "    </tr>\n",
       "  </thead>\n",
       "  <tbody>\n",
       "    <tr>\n",
       "      <th>0</th>\n",
       "      <td>NaN</td>\n",
       "      <td>-1.604969</td>\n",
       "      <td>-0.106263</td>\n",
       "      <td>-1.002924</td>\n",
       "    </tr>\n",
       "    <tr>\n",
       "      <th>1</th>\n",
       "      <td>-0.404667</td>\n",
       "      <td>0.458565</td>\n",
       "      <td>-1.174912</td>\n",
       "      <td>NaN</td>\n",
       "    </tr>\n",
       "    <tr>\n",
       "      <th>2</th>\n",
       "      <td>0.440231</td>\n",
       "      <td>1.713480</td>\n",
       "      <td>0.162473</td>\n",
       "      <td>-1.632132</td>\n",
       "    </tr>\n",
       "    <tr>\n",
       "      <th>3</th>\n",
       "      <td>0.081050</td>\n",
       "      <td>0.639851</td>\n",
       "      <td>0.844037</td>\n",
       "      <td>1.463154</td>\n",
       "    </tr>\n",
       "    <tr>\n",
       "      <th>4</th>\n",
       "      <td>-1.013616</td>\n",
       "      <td>-0.224553</td>\n",
       "      <td>1.786915</td>\n",
       "      <td>1.041241</td>\n",
       "    </tr>\n",
       "    <tr>\n",
       "      <th>5</th>\n",
       "      <td>-1.013616</td>\n",
       "      <td>-0.224553</td>\n",
       "      <td>1.786915</td>\n",
       "      <td>1.041241</td>\n",
       "    </tr>\n",
       "    <tr>\n",
       "      <th>6</th>\n",
       "      <td>-0.488965</td>\n",
       "      <td>0.946528</td>\n",
       "      <td>0.829525</td>\n",
       "      <td>-0.529912</td>\n",
       "    </tr>\n",
       "    <tr>\n",
       "      <th>7</th>\n",
       "      <td>-0.488965</td>\n",
       "      <td>0.946528</td>\n",
       "      <td>0.829525</td>\n",
       "      <td>-0.529912</td>\n",
       "    </tr>\n",
       "  </tbody>\n",
       "</table>\n",
       "</div>"
      ],
      "text/plain": [
       "          A         B         C         D\n",
       "0       NaN -1.604969 -0.106263 -1.002924\n",
       "1 -0.404667  0.458565 -1.174912       NaN\n",
       "2  0.440231  1.713480  0.162473 -1.632132\n",
       "3  0.081050  0.639851  0.844037  1.463154\n",
       "4 -1.013616 -0.224553  1.786915  1.041241\n",
       "5 -1.013616 -0.224553  1.786915  1.041241\n",
       "6 -0.488965  0.946528  0.829525 -0.529912\n",
       "7 -0.488965  0.946528  0.829525 -0.529912"
      ]
     },
     "execution_count": 25,
     "metadata": {},
     "output_type": "execute_result"
    }
   ],
   "source": [
    "df5 = pd.read_json('practicedata.json')\n",
    "df5"
   ]
  },
  {
   "cell_type": "markdown",
   "metadata": {
    "colab_type": "text",
    "id": "JwEArSFUKdl7"
   },
   "source": [
    "### Importing Files from a url\n",
    "\n",
    "Import data from this github repo: https://raw.githubusercontent.com/VinitaSilaparasetty/Coursera-Pandas-for-Beginners/master/practicedata.csv\")\n"
   ]
  },
  {
   "cell_type": "code",
   "execution_count": 26,
   "metadata": {
    "colab": {},
    "colab_type": "code",
    "id": "rmtoBqDvKdl8"
   },
   "outputs": [
    {
     "data": {
      "text/html": [
       "<div>\n",
       "<style scoped>\n",
       "    .dataframe tbody tr th:only-of-type {\n",
       "        vertical-align: middle;\n",
       "    }\n",
       "\n",
       "    .dataframe tbody tr th {\n",
       "        vertical-align: top;\n",
       "    }\n",
       "\n",
       "    .dataframe thead th {\n",
       "        text-align: right;\n",
       "    }\n",
       "</style>\n",
       "<table border=\"1\" class=\"dataframe\">\n",
       "  <thead>\n",
       "    <tr style=\"text-align: right;\">\n",
       "      <th></th>\n",
       "      <th>A</th>\n",
       "      <th>B</th>\n",
       "      <th>C</th>\n",
       "      <th>D</th>\n",
       "    </tr>\n",
       "  </thead>\n",
       "  <tbody>\n",
       "    <tr>\n",
       "      <th>0</th>\n",
       "      <td>NaN</td>\n",
       "      <td>-1.604969</td>\n",
       "      <td>-0.106263</td>\n",
       "      <td>-1.002924</td>\n",
       "    </tr>\n",
       "    <tr>\n",
       "      <th>1</th>\n",
       "      <td>-0.404667</td>\n",
       "      <td>0.458565</td>\n",
       "      <td>-1.174912</td>\n",
       "      <td>NaN</td>\n",
       "    </tr>\n",
       "    <tr>\n",
       "      <th>2</th>\n",
       "      <td>0.440231</td>\n",
       "      <td>1.713480</td>\n",
       "      <td>0.162473</td>\n",
       "      <td>-1.632132</td>\n",
       "    </tr>\n",
       "    <tr>\n",
       "      <th>3</th>\n",
       "      <td>0.081050</td>\n",
       "      <td>0.639851</td>\n",
       "      <td>0.844037</td>\n",
       "      <td>1.463154</td>\n",
       "    </tr>\n",
       "    <tr>\n",
       "      <th>4</th>\n",
       "      <td>-1.013616</td>\n",
       "      <td>-0.224553</td>\n",
       "      <td>1.786915</td>\n",
       "      <td>1.041241</td>\n",
       "    </tr>\n",
       "  </tbody>\n",
       "</table>\n",
       "</div>"
      ],
      "text/plain": [
       "          A         B         C         D\n",
       "0       NaN -1.604969 -0.106263 -1.002924\n",
       "1 -0.404667  0.458565 -1.174912       NaN\n",
       "2  0.440231  1.713480  0.162473 -1.632132\n",
       "3  0.081050  0.639851  0.844037  1.463154\n",
       "4 -1.013616 -0.224553  1.786915  1.041241"
      ]
     },
     "execution_count": 26,
     "metadata": {},
     "output_type": "execute_result"
    }
   ],
   "source": [
    "df6 = pd.read_csv('https://raw.githubusercontent.com/VinitaSilaparasetty/Coursera-Pandas-for-Beginners/master/practicedata.csv')\n",
    "df6.head()"
   ]
  },
  {
   "cell_type": "markdown",
   "metadata": {
    "colab_type": "text",
    "id": "n27mTE_fKdl_"
   },
   "source": [
    "## <center>🏆 Challenge\n",
    "    \n",
    "Create the data frame df7.\n",
    "\n",
    "Then import data from this github repo: https://raw.githubusercontent.com/VinitaSilaparasetty/Coursera-Pandas-for-Beginners/master/practicedata.json"
   ]
  },
  {
   "cell_type": "code",
   "execution_count": 28,
   "metadata": {
    "colab": {},
    "colab_type": "code",
    "id": "AO_hwwLSKdmA"
   },
   "outputs": [
    {
     "data": {
      "text/html": [
       "<div>\n",
       "<style scoped>\n",
       "    .dataframe tbody tr th:only-of-type {\n",
       "        vertical-align: middle;\n",
       "    }\n",
       "\n",
       "    .dataframe tbody tr th {\n",
       "        vertical-align: top;\n",
       "    }\n",
       "\n",
       "    .dataframe thead th {\n",
       "        text-align: right;\n",
       "    }\n",
       "</style>\n",
       "<table border=\"1\" class=\"dataframe\">\n",
       "  <thead>\n",
       "    <tr style=\"text-align: right;\">\n",
       "      <th></th>\n",
       "      <th>A</th>\n",
       "      <th>B</th>\n",
       "      <th>C</th>\n",
       "      <th>D</th>\n",
       "    </tr>\n",
       "  </thead>\n",
       "  <tbody>\n",
       "    <tr>\n",
       "      <th>0</th>\n",
       "      <td>NaN</td>\n",
       "      <td>-1.604969</td>\n",
       "      <td>-0.106263</td>\n",
       "      <td>-1.002924</td>\n",
       "    </tr>\n",
       "    <tr>\n",
       "      <th>1</th>\n",
       "      <td>-0.404667</td>\n",
       "      <td>0.458565</td>\n",
       "      <td>-1.174912</td>\n",
       "      <td>NaN</td>\n",
       "    </tr>\n",
       "    <tr>\n",
       "      <th>2</th>\n",
       "      <td>0.440231</td>\n",
       "      <td>1.713480</td>\n",
       "      <td>0.162473</td>\n",
       "      <td>-1.632132</td>\n",
       "    </tr>\n",
       "  </tbody>\n",
       "</table>\n",
       "</div>"
      ],
      "text/plain": [
       "          A         B         C         D\n",
       "0       NaN -1.604969 -0.106263 -1.002924\n",
       "1 -0.404667  0.458565 -1.174912       NaN\n",
       "2  0.440231  1.713480  0.162473 -1.632132"
      ]
     },
     "execution_count": 28,
     "metadata": {},
     "output_type": "execute_result"
    }
   ],
   "source": [
    "df7 = pd.read_json('https://raw.githubusercontent.com/VinitaSilaparasetty/Coursera-Pandas-for-Beginners/master/practicedata.json')\n",
    "df7.head(3)"
   ]
  },
  {
   "cell_type": "markdown",
   "metadata": {
    "colab_type": "text",
    "id": "_EThdbK-KdmC"
   },
   "source": [
    "## <center> Export Files"
   ]
  },
  {
   "cell_type": "markdown",
   "metadata": {
    "colab_type": "text",
    "id": "z0XsMHH5KdmD"
   },
   "source": [
    "### Export .csv Files"
   ]
  },
  {
   "cell_type": "code",
   "execution_count": 30,
   "metadata": {
    "colab": {},
    "colab_type": "code",
    "id": "S8V4mCjZKdmD"
   },
   "outputs": [],
   "source": [
    "df4.to_csv('practicedata2.csv')"
   ]
  },
  {
   "cell_type": "markdown",
   "metadata": {
    "colab_type": "text",
    "id": "dIfmNerUKdmF"
   },
   "source": [
    "## <center>🏆 Challenge\n",
    "\n",
    "Export the data from df4 to 'practicedata2.json'\n",
    "\n",
    "Use the file path:/home/rhyme/Desktop/Project/"
   ]
  },
  {
   "cell_type": "code",
   "execution_count": 31,
   "metadata": {
    "colab": {},
    "colab_type": "code",
    "id": "hAKKLJFdKdmG"
   },
   "outputs": [],
   "source": [
    "df4.to_json('practicedata2.json')"
   ]
  },
  {
   "cell_type": "markdown",
   "metadata": {
    "colab_type": "text",
    "id": "FlkZR3qZKdmI"
   },
   "source": [
    "## <center>Data Summary\n",
    "    \n",
    "We will be working with data frame df6 for this section. "
   ]
  },
  {
   "cell_type": "code",
   "execution_count": 32,
   "metadata": {
    "colab": {},
    "colab_type": "code",
    "id": "lKTohz7wKdmJ"
   },
   "outputs": [
    {
     "data": {
      "text/html": [
       "<div>\n",
       "<style scoped>\n",
       "    .dataframe tbody tr th:only-of-type {\n",
       "        vertical-align: middle;\n",
       "    }\n",
       "\n",
       "    .dataframe tbody tr th {\n",
       "        vertical-align: top;\n",
       "    }\n",
       "\n",
       "    .dataframe thead th {\n",
       "        text-align: right;\n",
       "    }\n",
       "</style>\n",
       "<table border=\"1\" class=\"dataframe\">\n",
       "  <thead>\n",
       "    <tr style=\"text-align: right;\">\n",
       "      <th></th>\n",
       "      <th>A</th>\n",
       "      <th>B</th>\n",
       "      <th>C</th>\n",
       "      <th>D</th>\n",
       "    </tr>\n",
       "  </thead>\n",
       "  <tbody>\n",
       "    <tr>\n",
       "      <th>0</th>\n",
       "      <td>NaN</td>\n",
       "      <td>-1.604969</td>\n",
       "      <td>-0.106263</td>\n",
       "      <td>-1.002924</td>\n",
       "    </tr>\n",
       "    <tr>\n",
       "      <th>1</th>\n",
       "      <td>-0.404667</td>\n",
       "      <td>0.458565</td>\n",
       "      <td>-1.174912</td>\n",
       "      <td>NaN</td>\n",
       "    </tr>\n",
       "    <tr>\n",
       "      <th>2</th>\n",
       "      <td>0.440231</td>\n",
       "      <td>1.713480</td>\n",
       "      <td>0.162473</td>\n",
       "      <td>-1.632132</td>\n",
       "    </tr>\n",
       "    <tr>\n",
       "      <th>3</th>\n",
       "      <td>0.081050</td>\n",
       "      <td>0.639851</td>\n",
       "      <td>0.844037</td>\n",
       "      <td>1.463154</td>\n",
       "    </tr>\n",
       "    <tr>\n",
       "      <th>4</th>\n",
       "      <td>-1.013616</td>\n",
       "      <td>-0.224553</td>\n",
       "      <td>1.786915</td>\n",
       "      <td>1.041241</td>\n",
       "    </tr>\n",
       "    <tr>\n",
       "      <th>5</th>\n",
       "      <td>-1.013616</td>\n",
       "      <td>-0.224553</td>\n",
       "      <td>1.786915</td>\n",
       "      <td>1.041241</td>\n",
       "    </tr>\n",
       "    <tr>\n",
       "      <th>6</th>\n",
       "      <td>-0.488965</td>\n",
       "      <td>0.946528</td>\n",
       "      <td>0.829525</td>\n",
       "      <td>-0.529912</td>\n",
       "    </tr>\n",
       "    <tr>\n",
       "      <th>7</th>\n",
       "      <td>-0.488965</td>\n",
       "      <td>0.946528</td>\n",
       "      <td>0.829525</td>\n",
       "      <td>-0.529912</td>\n",
       "    </tr>\n",
       "  </tbody>\n",
       "</table>\n",
       "</div>"
      ],
      "text/plain": [
       "          A         B         C         D\n",
       "0       NaN -1.604969 -0.106263 -1.002924\n",
       "1 -0.404667  0.458565 -1.174912       NaN\n",
       "2  0.440231  1.713480  0.162473 -1.632132\n",
       "3  0.081050  0.639851  0.844037  1.463154\n",
       "4 -1.013616 -0.224553  1.786915  1.041241\n",
       "5 -1.013616 -0.224553  1.786915  1.041241\n",
       "6 -0.488965  0.946528  0.829525 -0.529912\n",
       "7 -0.488965  0.946528  0.829525 -0.529912"
      ]
     },
     "execution_count": 32,
     "metadata": {},
     "output_type": "execute_result"
    }
   ],
   "source": [
    "#first run this cell to create the data frame df6\n",
    "df6 = pd.read_csv(\"https://raw.githubusercontent.com/VinitaSilaparasetty/Coursera-Pandas-for-Beginners/master/practicedata.csv\")\n",
    "df6"
   ]
  },
  {
   "cell_type": "markdown",
   "metadata": {
    "colab_type": "text",
    "id": "DN6MB5lMKdmL"
   },
   "source": [
    "### Quick Summary of Data"
   ]
  },
  {
   "cell_type": "code",
   "execution_count": 33,
   "metadata": {
    "colab": {},
    "colab_type": "code",
    "id": "mugbGs2uKdmM"
   },
   "outputs": [
    {
     "name": "stdout",
     "output_type": "stream",
     "text": [
      "<class 'pandas.core.frame.DataFrame'>\n",
      "RangeIndex: 8 entries, 0 to 7\n",
      "Data columns (total 4 columns):\n",
      " #   Column  Non-Null Count  Dtype  \n",
      "---  ------  --------------  -----  \n",
      " 0   A       7 non-null      float64\n",
      " 1   B       8 non-null      float64\n",
      " 2   C       8 non-null      float64\n",
      " 3   D       7 non-null      float64\n",
      "dtypes: float64(4)\n",
      "memory usage: 384.0 bytes\n"
     ]
    }
   ],
   "source": [
    "df6.info()"
   ]
  },
  {
   "cell_type": "markdown",
   "metadata": {
    "colab_type": "text",
    "id": "3_jL7fU6KdmQ"
   },
   "source": [
    "### Detailed Summary of Data"
   ]
  },
  {
   "cell_type": "code",
   "execution_count": 34,
   "metadata": {
    "colab": {},
    "colab_type": "code",
    "id": "GzgcphGkKdmQ"
   },
   "outputs": [
    {
     "data": {
      "text/html": [
       "<div>\n",
       "<style scoped>\n",
       "    .dataframe tbody tr th:only-of-type {\n",
       "        vertical-align: middle;\n",
       "    }\n",
       "\n",
       "    .dataframe tbody tr th {\n",
       "        vertical-align: top;\n",
       "    }\n",
       "\n",
       "    .dataframe thead th {\n",
       "        text-align: right;\n",
       "    }\n",
       "</style>\n",
       "<table border=\"1\" class=\"dataframe\">\n",
       "  <thead>\n",
       "    <tr style=\"text-align: right;\">\n",
       "      <th></th>\n",
       "      <th>A</th>\n",
       "      <th>B</th>\n",
       "      <th>C</th>\n",
       "      <th>D</th>\n",
       "    </tr>\n",
       "  </thead>\n",
       "  <tbody>\n",
       "    <tr>\n",
       "      <th>count</th>\n",
       "      <td>7.000000</td>\n",
       "      <td>8.000000</td>\n",
       "      <td>8.000000</td>\n",
       "      <td>7.000000</td>\n",
       "    </tr>\n",
       "    <tr>\n",
       "      <th>mean</th>\n",
       "      <td>-0.412650</td>\n",
       "      <td>0.331360</td>\n",
       "      <td>0.619777</td>\n",
       "      <td>-0.021321</td>\n",
       "    </tr>\n",
       "    <tr>\n",
       "      <th>std</th>\n",
       "      <td>0.533101</td>\n",
       "      <td>1.010369</td>\n",
       "      <td>0.987050</td>\n",
       "      <td>1.192849</td>\n",
       "    </tr>\n",
       "    <tr>\n",
       "      <th>min</th>\n",
       "      <td>-1.013616</td>\n",
       "      <td>-1.604969</td>\n",
       "      <td>-1.174912</td>\n",
       "      <td>-1.632132</td>\n",
       "    </tr>\n",
       "    <tr>\n",
       "      <th>25%</th>\n",
       "      <td>-0.751291</td>\n",
       "      <td>-0.224553</td>\n",
       "      <td>0.095289</td>\n",
       "      <td>-0.766418</td>\n",
       "    </tr>\n",
       "    <tr>\n",
       "      <th>50%</th>\n",
       "      <td>-0.488965</td>\n",
       "      <td>0.549208</td>\n",
       "      <td>0.829525</td>\n",
       "      <td>-0.529912</td>\n",
       "    </tr>\n",
       "    <tr>\n",
       "      <th>75%</th>\n",
       "      <td>-0.161808</td>\n",
       "      <td>0.946528</td>\n",
       "      <td>1.079757</td>\n",
       "      <td>1.041241</td>\n",
       "    </tr>\n",
       "    <tr>\n",
       "      <th>max</th>\n",
       "      <td>0.440231</td>\n",
       "      <td>1.713480</td>\n",
       "      <td>1.786915</td>\n",
       "      <td>1.463154</td>\n",
       "    </tr>\n",
       "  </tbody>\n",
       "</table>\n",
       "</div>"
      ],
      "text/plain": [
       "              A         B         C         D\n",
       "count  7.000000  8.000000  8.000000  7.000000\n",
       "mean  -0.412650  0.331360  0.619777 -0.021321\n",
       "std    0.533101  1.010369  0.987050  1.192849\n",
       "min   -1.013616 -1.604969 -1.174912 -1.632132\n",
       "25%   -0.751291 -0.224553  0.095289 -0.766418\n",
       "50%   -0.488965  0.549208  0.829525 -0.529912\n",
       "75%   -0.161808  0.946528  1.079757  1.041241\n",
       "max    0.440231  1.713480  1.786915  1.463154"
      ]
     },
     "execution_count": 34,
     "metadata": {},
     "output_type": "execute_result"
    }
   ],
   "source": [
    "df6.describe()  # more details about data"
   ]
  },
  {
   "cell_type": "markdown",
   "metadata": {
    "colab_type": "text",
    "id": "CF4sggh4KdmU"
   },
   "source": [
    "## <center>View Columns"
   ]
  },
  {
   "cell_type": "code",
   "execution_count": 37,
   "metadata": {
    "colab": {},
    "colab_type": "code",
    "id": "pgMfvaJxKdmU"
   },
   "outputs": [
    {
     "data": {
      "text/plain": [
       "Index(['A', 'B', 'C', 'D'], dtype='object')"
      ]
     },
     "execution_count": 37,
     "metadata": {},
     "output_type": "execute_result"
    }
   ],
   "source": [
    "df6.columns"
   ]
  },
  {
   "cell_type": "markdown",
   "metadata": {
    "colab_type": "text",
    "id": "uAXDELuXKdmX"
   },
   "source": [
    "## <center>🏆 Challenge\n",
    "    \n",
    "View the columns in df7."
   ]
  },
  {
   "cell_type": "code",
   "execution_count": null,
   "metadata": {
    "colab": {},
    "colab_type": "code",
    "id": "uE5qFaJtKdmX"
   },
   "outputs": [],
   "source": [
    "#first run this cell to create the data frame df7\n",
    "df7 = pd.read_json(\"https://raw.githubusercontent.com/VinitaSilaparasetty/Coursera-Pandas-for-Beginners/master/practicedata.json\")\n",
    "df7"
   ]
  },
  {
   "cell_type": "code",
   "execution_count": 38,
   "metadata": {
    "colab": {},
    "colab_type": "code",
    "id": "f11ZMpvZKdma"
   },
   "outputs": [
    {
     "data": {
      "text/plain": [
       "Index(['A', 'B', 'C', 'D'], dtype='object')"
      ]
     },
     "execution_count": 38,
     "metadata": {},
     "output_type": "execute_result"
    }
   ],
   "source": [
    "df7.columns"
   ]
  },
  {
   "cell_type": "markdown",
   "metadata": {
    "colab_type": "text",
    "id": "CHrYIhwHKdmg"
   },
   "source": [
    "## <center>View Datatypes"
   ]
  },
  {
   "cell_type": "code",
   "execution_count": 39,
   "metadata": {
    "colab": {},
    "colab_type": "code",
    "id": "jAZnSb1pKdmg"
   },
   "outputs": [
    {
     "data": {
      "text/plain": [
       "A    float64\n",
       "B    float64\n",
       "C    float64\n",
       "D    float64\n",
       "dtype: object"
      ]
     },
     "execution_count": 39,
     "metadata": {},
     "output_type": "execute_result"
    }
   ],
   "source": [
    "df6.dtypes"
   ]
  },
  {
   "cell_type": "markdown",
   "metadata": {
    "colab_type": "text",
    "id": "6gAkSbTSKdml"
   },
   "source": [
    "## <center>🏆 Challenge\n",
    "    \n",
    "View the datatypes in df7"
   ]
  },
  {
   "cell_type": "code",
   "execution_count": 40,
   "metadata": {
    "colab": {},
    "colab_type": "code",
    "id": "LxbDyFpEKdml"
   },
   "outputs": [
    {
     "data": {
      "text/plain": [
       "A    float64\n",
       "B    float64\n",
       "C    float64\n",
       "D    float64\n",
       "dtype: object"
      ]
     },
     "execution_count": 40,
     "metadata": {},
     "output_type": "execute_result"
    }
   ],
   "source": [
    "df7.dtypes"
   ]
  },
  {
   "cell_type": "markdown",
   "metadata": {
    "colab_type": "text",
    "id": "UQwb5eCOKdmn"
   },
   "source": [
    "## <center>Handling Duplicates"
   ]
  },
  {
   "cell_type": "markdown",
   "metadata": {
    "colab_type": "text",
    "id": "1tMdWWs1Kdmo"
   },
   "source": [
    "### Detect Duplicate Rows"
   ]
  },
  {
   "cell_type": "code",
   "execution_count": 45,
   "metadata": {
    "colab": {},
    "colab_type": "code",
    "id": "j8V83rOeKdmp"
   },
   "outputs": [
    {
     "data": {
      "text/plain": [
       "0    False\n",
       "1    False\n",
       "2    False\n",
       "3    False\n",
       "4    False\n",
       "5     True\n",
       "6    False\n",
       "7     True\n",
       "dtype: bool"
      ]
     },
     "execution_count": 45,
     "metadata": {},
     "output_type": "execute_result"
    }
   ],
   "source": [
    "df6.duplicated()"
   ]
  },
  {
   "cell_type": "markdown",
   "metadata": {
    "colab_type": "text",
    "id": "bRPgjo9fKdmr"
   },
   "source": [
    "### Drop Duplicate Rows"
   ]
  },
  {
   "cell_type": "code",
   "execution_count": 46,
   "metadata": {
    "colab": {},
    "colab_type": "code",
    "id": "FWPMWXQQKdms"
   },
   "outputs": [
    {
     "data": {
      "text/html": [
       "<div>\n",
       "<style scoped>\n",
       "    .dataframe tbody tr th:only-of-type {\n",
       "        vertical-align: middle;\n",
       "    }\n",
       "\n",
       "    .dataframe tbody tr th {\n",
       "        vertical-align: top;\n",
       "    }\n",
       "\n",
       "    .dataframe thead th {\n",
       "        text-align: right;\n",
       "    }\n",
       "</style>\n",
       "<table border=\"1\" class=\"dataframe\">\n",
       "  <thead>\n",
       "    <tr style=\"text-align: right;\">\n",
       "      <th></th>\n",
       "      <th>A</th>\n",
       "      <th>B</th>\n",
       "      <th>C</th>\n",
       "      <th>D</th>\n",
       "    </tr>\n",
       "  </thead>\n",
       "  <tbody>\n",
       "    <tr>\n",
       "      <th>0</th>\n",
       "      <td>NaN</td>\n",
       "      <td>-1.604969</td>\n",
       "      <td>-0.106263</td>\n",
       "      <td>-1.002924</td>\n",
       "    </tr>\n",
       "    <tr>\n",
       "      <th>1</th>\n",
       "      <td>-0.404667</td>\n",
       "      <td>0.458565</td>\n",
       "      <td>-1.174912</td>\n",
       "      <td>NaN</td>\n",
       "    </tr>\n",
       "    <tr>\n",
       "      <th>2</th>\n",
       "      <td>0.440231</td>\n",
       "      <td>1.713480</td>\n",
       "      <td>0.162473</td>\n",
       "      <td>-1.632132</td>\n",
       "    </tr>\n",
       "    <tr>\n",
       "      <th>3</th>\n",
       "      <td>0.081050</td>\n",
       "      <td>0.639851</td>\n",
       "      <td>0.844037</td>\n",
       "      <td>1.463154</td>\n",
       "    </tr>\n",
       "    <tr>\n",
       "      <th>4</th>\n",
       "      <td>-1.013616</td>\n",
       "      <td>-0.224553</td>\n",
       "      <td>1.786915</td>\n",
       "      <td>1.041241</td>\n",
       "    </tr>\n",
       "    <tr>\n",
       "      <th>6</th>\n",
       "      <td>-0.488965</td>\n",
       "      <td>0.946528</td>\n",
       "      <td>0.829525</td>\n",
       "      <td>-0.529912</td>\n",
       "    </tr>\n",
       "  </tbody>\n",
       "</table>\n",
       "</div>"
      ],
      "text/plain": [
       "          A         B         C         D\n",
       "0       NaN -1.604969 -0.106263 -1.002924\n",
       "1 -0.404667  0.458565 -1.174912       NaN\n",
       "2  0.440231  1.713480  0.162473 -1.632132\n",
       "3  0.081050  0.639851  0.844037  1.463154\n",
       "4 -1.013616 -0.224553  1.786915  1.041241\n",
       "6 -0.488965  0.946528  0.829525 -0.529912"
      ]
     },
     "execution_count": 46,
     "metadata": {},
     "output_type": "execute_result"
    }
   ],
   "source": [
    "df6.drop_duplicates()"
   ]
  },
  {
   "cell_type": "markdown",
   "metadata": {
    "colab_type": "text",
    "id": "kFpZG62ZKdmv"
   },
   "source": [
    "## <center>🏆 Challenge\n",
    "    \n",
    "Detect and drop duplicates in df7"
   ]
  },
  {
   "cell_type": "code",
   "execution_count": 47,
   "metadata": {
    "colab": {},
    "colab_type": "code",
    "id": "DhkddpPEKdmw"
   },
   "outputs": [
    {
     "data": {
      "text/plain": [
       "0    False\n",
       "1    False\n",
       "2    False\n",
       "3    False\n",
       "4    False\n",
       "5     True\n",
       "6    False\n",
       "7     True\n",
       "dtype: bool"
      ]
     },
     "execution_count": 47,
     "metadata": {},
     "output_type": "execute_result"
    }
   ],
   "source": [
    "#Detect duplicates\n",
    "df7.duplicated()"
   ]
  },
  {
   "cell_type": "code",
   "execution_count": 48,
   "metadata": {
    "colab": {},
    "colab_type": "code",
    "id": "IiCtmeqoKdmy"
   },
   "outputs": [
    {
     "data": {
      "text/html": [
       "<div>\n",
       "<style scoped>\n",
       "    .dataframe tbody tr th:only-of-type {\n",
       "        vertical-align: middle;\n",
       "    }\n",
       "\n",
       "    .dataframe tbody tr th {\n",
       "        vertical-align: top;\n",
       "    }\n",
       "\n",
       "    .dataframe thead th {\n",
       "        text-align: right;\n",
       "    }\n",
       "</style>\n",
       "<table border=\"1\" class=\"dataframe\">\n",
       "  <thead>\n",
       "    <tr style=\"text-align: right;\">\n",
       "      <th></th>\n",
       "      <th>A</th>\n",
       "      <th>B</th>\n",
       "      <th>C</th>\n",
       "      <th>D</th>\n",
       "    </tr>\n",
       "  </thead>\n",
       "  <tbody>\n",
       "    <tr>\n",
       "      <th>0</th>\n",
       "      <td>NaN</td>\n",
       "      <td>-1.604969</td>\n",
       "      <td>-0.106263</td>\n",
       "      <td>-1.002924</td>\n",
       "    </tr>\n",
       "    <tr>\n",
       "      <th>1</th>\n",
       "      <td>-0.404667</td>\n",
       "      <td>0.458565</td>\n",
       "      <td>-1.174912</td>\n",
       "      <td>NaN</td>\n",
       "    </tr>\n",
       "    <tr>\n",
       "      <th>2</th>\n",
       "      <td>0.440231</td>\n",
       "      <td>1.713480</td>\n",
       "      <td>0.162473</td>\n",
       "      <td>-1.632132</td>\n",
       "    </tr>\n",
       "    <tr>\n",
       "      <th>3</th>\n",
       "      <td>0.081050</td>\n",
       "      <td>0.639851</td>\n",
       "      <td>0.844037</td>\n",
       "      <td>1.463154</td>\n",
       "    </tr>\n",
       "    <tr>\n",
       "      <th>4</th>\n",
       "      <td>-1.013616</td>\n",
       "      <td>-0.224553</td>\n",
       "      <td>1.786915</td>\n",
       "      <td>1.041241</td>\n",
       "    </tr>\n",
       "    <tr>\n",
       "      <th>6</th>\n",
       "      <td>-0.488965</td>\n",
       "      <td>0.946528</td>\n",
       "      <td>0.829525</td>\n",
       "      <td>-0.529912</td>\n",
       "    </tr>\n",
       "  </tbody>\n",
       "</table>\n",
       "</div>"
      ],
      "text/plain": [
       "          A         B         C         D\n",
       "0       NaN -1.604969 -0.106263 -1.002924\n",
       "1 -0.404667  0.458565 -1.174912       NaN\n",
       "2  0.440231  1.713480  0.162473 -1.632132\n",
       "3  0.081050  0.639851  0.844037  1.463154\n",
       "4 -1.013616 -0.224553  1.786915  1.041241\n",
       "6 -0.488965  0.946528  0.829525 -0.529912"
      ]
     },
     "execution_count": 48,
     "metadata": {},
     "output_type": "execute_result"
    }
   ],
   "source": [
    "#Drop duplicates\n",
    "df7.drop_duplicates()"
   ]
  },
  {
   "cell_type": "markdown",
   "metadata": {
    "colab_type": "text",
    "id": "waWxSZcJKdm2"
   },
   "source": [
    "## <center>Handling Missing Values"
   ]
  },
  {
   "cell_type": "markdown",
   "metadata": {
    "colab_type": "text",
    "id": "6PDXv6FgKdm3"
   },
   "source": [
    "### Detect Missing Values"
   ]
  },
  {
   "cell_type": "code",
   "execution_count": 50,
   "metadata": {
    "colab": {},
    "colab_type": "code",
    "id": "kzSahpp3Kdm3"
   },
   "outputs": [
    {
     "data": {
      "text/plain": [
       "A    1\n",
       "B    0\n",
       "C    0\n",
       "D    1\n",
       "dtype: int64"
      ]
     },
     "execution_count": 50,
     "metadata": {},
     "output_type": "execute_result"
    }
   ],
   "source": [
    "df6.isnull().sum()"
   ]
  },
  {
   "cell_type": "markdown",
   "metadata": {
    "colab_type": "text",
    "id": "7Mg3mhXoKdm8"
   },
   "source": [
    "### Drop Missing Values"
   ]
  },
  {
   "cell_type": "code",
   "execution_count": 51,
   "metadata": {
    "colab": {},
    "colab_type": "code",
    "id": "VbpeE7B_Kdm8"
   },
   "outputs": [
    {
     "data": {
      "text/html": [
       "<div>\n",
       "<style scoped>\n",
       "    .dataframe tbody tr th:only-of-type {\n",
       "        vertical-align: middle;\n",
       "    }\n",
       "\n",
       "    .dataframe tbody tr th {\n",
       "        vertical-align: top;\n",
       "    }\n",
       "\n",
       "    .dataframe thead th {\n",
       "        text-align: right;\n",
       "    }\n",
       "</style>\n",
       "<table border=\"1\" class=\"dataframe\">\n",
       "  <thead>\n",
       "    <tr style=\"text-align: right;\">\n",
       "      <th></th>\n",
       "      <th>A</th>\n",
       "      <th>B</th>\n",
       "      <th>C</th>\n",
       "      <th>D</th>\n",
       "    </tr>\n",
       "  </thead>\n",
       "  <tbody>\n",
       "    <tr>\n",
       "      <th>2</th>\n",
       "      <td>0.440231</td>\n",
       "      <td>1.713480</td>\n",
       "      <td>0.162473</td>\n",
       "      <td>-1.632132</td>\n",
       "    </tr>\n",
       "    <tr>\n",
       "      <th>3</th>\n",
       "      <td>0.081050</td>\n",
       "      <td>0.639851</td>\n",
       "      <td>0.844037</td>\n",
       "      <td>1.463154</td>\n",
       "    </tr>\n",
       "    <tr>\n",
       "      <th>4</th>\n",
       "      <td>-1.013616</td>\n",
       "      <td>-0.224553</td>\n",
       "      <td>1.786915</td>\n",
       "      <td>1.041241</td>\n",
       "    </tr>\n",
       "    <tr>\n",
       "      <th>5</th>\n",
       "      <td>-1.013616</td>\n",
       "      <td>-0.224553</td>\n",
       "      <td>1.786915</td>\n",
       "      <td>1.041241</td>\n",
       "    </tr>\n",
       "    <tr>\n",
       "      <th>6</th>\n",
       "      <td>-0.488965</td>\n",
       "      <td>0.946528</td>\n",
       "      <td>0.829525</td>\n",
       "      <td>-0.529912</td>\n",
       "    </tr>\n",
       "    <tr>\n",
       "      <th>7</th>\n",
       "      <td>-0.488965</td>\n",
       "      <td>0.946528</td>\n",
       "      <td>0.829525</td>\n",
       "      <td>-0.529912</td>\n",
       "    </tr>\n",
       "  </tbody>\n",
       "</table>\n",
       "</div>"
      ],
      "text/plain": [
       "          A         B         C         D\n",
       "2  0.440231  1.713480  0.162473 -1.632132\n",
       "3  0.081050  0.639851  0.844037  1.463154\n",
       "4 -1.013616 -0.224553  1.786915  1.041241\n",
       "5 -1.013616 -0.224553  1.786915  1.041241\n",
       "6 -0.488965  0.946528  0.829525 -0.529912\n",
       "7 -0.488965  0.946528  0.829525 -0.529912"
      ]
     },
     "execution_count": 51,
     "metadata": {},
     "output_type": "execute_result"
    }
   ],
   "source": [
    "df6.dropna()"
   ]
  },
  {
   "cell_type": "markdown",
   "metadata": {
    "colab_type": "text",
    "id": "Z90VbmacKdm_"
   },
   "source": [
    "## <center>🏆 Challenge\n",
    "    \n",
    "Detect and drop missing values in df7"
   ]
  },
  {
   "cell_type": "code",
   "execution_count": 53,
   "metadata": {
    "colab": {},
    "colab_type": "code",
    "id": "pf0zbKWaKdm_"
   },
   "outputs": [
    {
     "data": {
      "text/plain": [
       "A    1\n",
       "B    0\n",
       "C    0\n",
       "D    1\n",
       "dtype: int64"
      ]
     },
     "execution_count": 53,
     "metadata": {},
     "output_type": "execute_result"
    }
   ],
   "source": [
    "#Detect missing values\n",
    "df7.isnull().sum()"
   ]
  },
  {
   "cell_type": "code",
   "execution_count": 54,
   "metadata": {
    "colab": {},
    "colab_type": "code",
    "id": "ThXXX8vZKdnE"
   },
   "outputs": [
    {
     "data": {
      "text/html": [
       "<div>\n",
       "<style scoped>\n",
       "    .dataframe tbody tr th:only-of-type {\n",
       "        vertical-align: middle;\n",
       "    }\n",
       "\n",
       "    .dataframe tbody tr th {\n",
       "        vertical-align: top;\n",
       "    }\n",
       "\n",
       "    .dataframe thead th {\n",
       "        text-align: right;\n",
       "    }\n",
       "</style>\n",
       "<table border=\"1\" class=\"dataframe\">\n",
       "  <thead>\n",
       "    <tr style=\"text-align: right;\">\n",
       "      <th></th>\n",
       "      <th>A</th>\n",
       "      <th>B</th>\n",
       "      <th>C</th>\n",
       "      <th>D</th>\n",
       "    </tr>\n",
       "  </thead>\n",
       "  <tbody>\n",
       "    <tr>\n",
       "      <th>2</th>\n",
       "      <td>0.440231</td>\n",
       "      <td>1.713480</td>\n",
       "      <td>0.162473</td>\n",
       "      <td>-1.632132</td>\n",
       "    </tr>\n",
       "    <tr>\n",
       "      <th>3</th>\n",
       "      <td>0.081050</td>\n",
       "      <td>0.639851</td>\n",
       "      <td>0.844037</td>\n",
       "      <td>1.463154</td>\n",
       "    </tr>\n",
       "    <tr>\n",
       "      <th>4</th>\n",
       "      <td>-1.013616</td>\n",
       "      <td>-0.224553</td>\n",
       "      <td>1.786915</td>\n",
       "      <td>1.041241</td>\n",
       "    </tr>\n",
       "    <tr>\n",
       "      <th>5</th>\n",
       "      <td>-1.013616</td>\n",
       "      <td>-0.224553</td>\n",
       "      <td>1.786915</td>\n",
       "      <td>1.041241</td>\n",
       "    </tr>\n",
       "    <tr>\n",
       "      <th>6</th>\n",
       "      <td>-0.488965</td>\n",
       "      <td>0.946528</td>\n",
       "      <td>0.829525</td>\n",
       "      <td>-0.529912</td>\n",
       "    </tr>\n",
       "    <tr>\n",
       "      <th>7</th>\n",
       "      <td>-0.488965</td>\n",
       "      <td>0.946528</td>\n",
       "      <td>0.829525</td>\n",
       "      <td>-0.529912</td>\n",
       "    </tr>\n",
       "  </tbody>\n",
       "</table>\n",
       "</div>"
      ],
      "text/plain": [
       "          A         B         C         D\n",
       "2  0.440231  1.713480  0.162473 -1.632132\n",
       "3  0.081050  0.639851  0.844037  1.463154\n",
       "4 -1.013616 -0.224553  1.786915  1.041241\n",
       "5 -1.013616 -0.224553  1.786915  1.041241\n",
       "6 -0.488965  0.946528  0.829525 -0.529912\n",
       "7 -0.488965  0.946528  0.829525 -0.529912"
      ]
     },
     "execution_count": 54,
     "metadata": {},
     "output_type": "execute_result"
    }
   ],
   "source": [
    "#Drop missing values\n",
    "df7.dropna()"
   ]
  },
  {
   "cell_type": "markdown",
   "metadata": {
    "colab_type": "text",
    "id": "2lw-Kat8KdnH"
   },
   "source": [
    "## <center>Numeric Operations"
   ]
  },
  {
   "cell_type": "markdown",
   "metadata": {
    "colab_type": "text",
    "id": "APfPwd9oKdnI"
   },
   "source": [
    "We will work with the data frame df8."
   ]
  },
  {
   "cell_type": "code",
   "execution_count": 55,
   "metadata": {
    "colab": {},
    "colab_type": "code",
    "id": "KDKVwxrGKdnJ"
   },
   "outputs": [
    {
     "data": {
      "text/html": [
       "<div>\n",
       "<style scoped>\n",
       "    .dataframe tbody tr th:only-of-type {\n",
       "        vertical-align: middle;\n",
       "    }\n",
       "\n",
       "    .dataframe tbody tr th {\n",
       "        vertical-align: top;\n",
       "    }\n",
       "\n",
       "    .dataframe thead th {\n",
       "        text-align: right;\n",
       "    }\n",
       "</style>\n",
       "<table border=\"1\" class=\"dataframe\">\n",
       "  <thead>\n",
       "    <tr style=\"text-align: right;\">\n",
       "      <th></th>\n",
       "      <th>0</th>\n",
       "      <th>1</th>\n",
       "      <th>2</th>\n",
       "      <th>3</th>\n",
       "    </tr>\n",
       "  </thead>\n",
       "  <tbody>\n",
       "    <tr>\n",
       "      <th>0</th>\n",
       "      <td>0.191489</td>\n",
       "      <td>0.139731</td>\n",
       "      <td>0.833341</td>\n",
       "      <td>-0.099675</td>\n",
       "    </tr>\n",
       "    <tr>\n",
       "      <th>1</th>\n",
       "      <td>0.322517</td>\n",
       "      <td>1.293327</td>\n",
       "      <td>-0.021423</td>\n",
       "      <td>-1.503795</td>\n",
       "    </tr>\n",
       "    <tr>\n",
       "      <th>2</th>\n",
       "      <td>0.351663</td>\n",
       "      <td>0.399188</td>\n",
       "      <td>-2.130441</td>\n",
       "      <td>-0.407696</td>\n",
       "    </tr>\n",
       "    <tr>\n",
       "      <th>3</th>\n",
       "      <td>0.235218</td>\n",
       "      <td>2.080878</td>\n",
       "      <td>-1.055004</td>\n",
       "      <td>1.224729</td>\n",
       "    </tr>\n",
       "    <tr>\n",
       "      <th>4</th>\n",
       "      <td>-1.351328</td>\n",
       "      <td>-0.781962</td>\n",
       "      <td>-1.533220</td>\n",
       "      <td>0.030360</td>\n",
       "    </tr>\n",
       "    <tr>\n",
       "      <th>5</th>\n",
       "      <td>0.453249</td>\n",
       "      <td>0.333577</td>\n",
       "      <td>0.862351</td>\n",
       "      <td>1.313482</td>\n",
       "    </tr>\n",
       "  </tbody>\n",
       "</table>\n",
       "</div>"
      ],
      "text/plain": [
       "          0         1         2         3\n",
       "0  0.191489  0.139731  0.833341 -0.099675\n",
       "1  0.322517  1.293327 -0.021423 -1.503795\n",
       "2  0.351663  0.399188 -2.130441 -0.407696\n",
       "3  0.235218  2.080878 -1.055004  1.224729\n",
       "4 -1.351328 -0.781962 -1.533220  0.030360\n",
       "5  0.453249  0.333577  0.862351  1.313482"
      ]
     },
     "execution_count": 55,
     "metadata": {},
     "output_type": "execute_result"
    }
   ],
   "source": [
    "#first run this cell to create the dataframe df8\n",
    "df8 = pd.DataFrame(np.random.randn(6,4))\n",
    "df8"
   ]
  },
  {
   "cell_type": "markdown",
   "metadata": {
    "colab_type": "text",
    "id": "jN8IqnIFKdnQ"
   },
   "source": [
    "### Calculate the Mean:"
   ]
  },
  {
   "cell_type": "code",
   "execution_count": 56,
   "metadata": {
    "colab": {},
    "colab_type": "code",
    "id": "m9w25pqIKdnQ"
   },
   "outputs": [
    {
     "data": {
      "text/plain": [
       "0    0.033801\n",
       "1    0.577457\n",
       "2   -0.507399\n",
       "3    0.092901\n",
       "dtype: float64"
      ]
     },
     "execution_count": 56,
     "metadata": {},
     "output_type": "execute_result"
    }
   ],
   "source": [
    "df8.mean()"
   ]
  },
  {
   "cell_type": "markdown",
   "metadata": {
    "colab_type": "text",
    "id": "0qDYbVY5KdnU"
   },
   "source": [
    "## <center>🏆 Challenge\n",
    "    \n",
    "Calculate the mean of df9"
   ]
  },
  {
   "cell_type": "code",
   "execution_count": 57,
   "metadata": {
    "colab": {},
    "colab_type": "code",
    "id": "GVYUWElgKdnU"
   },
   "outputs": [
    {
     "data": {
      "text/html": [
       "<div>\n",
       "<style scoped>\n",
       "    .dataframe tbody tr th:only-of-type {\n",
       "        vertical-align: middle;\n",
       "    }\n",
       "\n",
       "    .dataframe tbody tr th {\n",
       "        vertical-align: top;\n",
       "    }\n",
       "\n",
       "    .dataframe thead th {\n",
       "        text-align: right;\n",
       "    }\n",
       "</style>\n",
       "<table border=\"1\" class=\"dataframe\">\n",
       "  <thead>\n",
       "    <tr style=\"text-align: right;\">\n",
       "      <th></th>\n",
       "      <th>0</th>\n",
       "      <th>1</th>\n",
       "      <th>2</th>\n",
       "      <th>3</th>\n",
       "    </tr>\n",
       "  </thead>\n",
       "  <tbody>\n",
       "    <tr>\n",
       "      <th>0</th>\n",
       "      <td>0.311763</td>\n",
       "      <td>-0.774167</td>\n",
       "      <td>-0.354428</td>\n",
       "      <td>-0.165007</td>\n",
       "    </tr>\n",
       "    <tr>\n",
       "      <th>1</th>\n",
       "      <td>-3.225132</td>\n",
       "      <td>-0.819524</td>\n",
       "      <td>2.670090</td>\n",
       "      <td>-0.231502</td>\n",
       "    </tr>\n",
       "    <tr>\n",
       "      <th>2</th>\n",
       "      <td>0.168790</td>\n",
       "      <td>-0.392483</td>\n",
       "      <td>-2.272808</td>\n",
       "      <td>-0.964568</td>\n",
       "    </tr>\n",
       "  </tbody>\n",
       "</table>\n",
       "</div>"
      ],
      "text/plain": [
       "          0         1         2         3\n",
       "0  0.311763 -0.774167 -0.354428 -0.165007\n",
       "1 -3.225132 -0.819524  2.670090 -0.231502\n",
       "2  0.168790 -0.392483 -2.272808 -0.964568"
      ]
     },
     "execution_count": 57,
     "metadata": {},
     "output_type": "execute_result"
    }
   ],
   "source": [
    "#first run this cell to create df9\n",
    "df9 = pd.DataFrame(np.random.randn(3,4))\n",
    "df9"
   ]
  },
  {
   "cell_type": "code",
   "execution_count": 58,
   "metadata": {
    "colab": {},
    "colab_type": "code",
    "id": "ec14cNcXKdnY"
   },
   "outputs": [
    {
     "data": {
      "text/plain": [
       "0   -0.914860\n",
       "1   -0.662058\n",
       "2    0.014285\n",
       "3   -0.453692\n",
       "dtype: float64"
      ]
     },
     "execution_count": 58,
     "metadata": {},
     "output_type": "execute_result"
    }
   ],
   "source": [
    "df9.mean()"
   ]
  },
  {
   "cell_type": "markdown",
   "metadata": {
    "colab_type": "text",
    "id": "_rYXEpNYKdne"
   },
   "source": [
    "### Calculate the Cumulative Sum:"
   ]
  },
  {
   "cell_type": "code",
   "execution_count": 61,
   "metadata": {
    "colab": {},
    "colab_type": "code",
    "id": "R9U6KznGKdne"
   },
   "outputs": [
    {
     "data": {
      "text/html": [
       "<div>\n",
       "<style scoped>\n",
       "    .dataframe tbody tr th:only-of-type {\n",
       "        vertical-align: middle;\n",
       "    }\n",
       "\n",
       "    .dataframe tbody tr th {\n",
       "        vertical-align: top;\n",
       "    }\n",
       "\n",
       "    .dataframe thead th {\n",
       "        text-align: right;\n",
       "    }\n",
       "</style>\n",
       "<table border=\"1\" class=\"dataframe\">\n",
       "  <thead>\n",
       "    <tr style=\"text-align: right;\">\n",
       "      <th></th>\n",
       "      <th>0</th>\n",
       "      <th>1</th>\n",
       "      <th>2</th>\n",
       "      <th>3</th>\n",
       "    </tr>\n",
       "  </thead>\n",
       "  <tbody>\n",
       "    <tr>\n",
       "      <th>0</th>\n",
       "      <td>0.191489</td>\n",
       "      <td>0.139731</td>\n",
       "      <td>0.833341</td>\n",
       "      <td>-0.099675</td>\n",
       "    </tr>\n",
       "    <tr>\n",
       "      <th>1</th>\n",
       "      <td>0.514006</td>\n",
       "      <td>1.433058</td>\n",
       "      <td>0.811918</td>\n",
       "      <td>-1.603470</td>\n",
       "    </tr>\n",
       "    <tr>\n",
       "      <th>2</th>\n",
       "      <td>0.865669</td>\n",
       "      <td>1.832246</td>\n",
       "      <td>-1.318523</td>\n",
       "      <td>-2.011165</td>\n",
       "    </tr>\n",
       "    <tr>\n",
       "      <th>3</th>\n",
       "      <td>1.100887</td>\n",
       "      <td>3.913124</td>\n",
       "      <td>-2.373527</td>\n",
       "      <td>-0.786436</td>\n",
       "    </tr>\n",
       "    <tr>\n",
       "      <th>4</th>\n",
       "      <td>-0.250441</td>\n",
       "      <td>3.131162</td>\n",
       "      <td>-3.906747</td>\n",
       "      <td>-0.756076</td>\n",
       "    </tr>\n",
       "    <tr>\n",
       "      <th>5</th>\n",
       "      <td>0.202807</td>\n",
       "      <td>3.464739</td>\n",
       "      <td>-3.044396</td>\n",
       "      <td>0.557406</td>\n",
       "    </tr>\n",
       "  </tbody>\n",
       "</table>\n",
       "</div>"
      ],
      "text/plain": [
       "          0         1         2         3\n",
       "0  0.191489  0.139731  0.833341 -0.099675\n",
       "1  0.514006  1.433058  0.811918 -1.603470\n",
       "2  0.865669  1.832246 -1.318523 -2.011165\n",
       "3  1.100887  3.913124 -2.373527 -0.786436\n",
       "4 -0.250441  3.131162 -3.906747 -0.756076\n",
       "5  0.202807  3.464739 -3.044396  0.557406"
      ]
     },
     "execution_count": 61,
     "metadata": {},
     "output_type": "execute_result"
    }
   ],
   "source": [
    "df8.apply(np.cumsum)"
   ]
  },
  {
   "cell_type": "markdown",
   "metadata": {
    "colab_type": "text",
    "id": "b_9vijDuKdni"
   },
   "source": [
    "## <center>🏆 Challenge\n",
    "    \n",
    "Calculate the cumulative sum of df9"
   ]
  },
  {
   "cell_type": "code",
   "execution_count": 60,
   "metadata": {
    "colab": {},
    "colab_type": "code",
    "id": "iJtQ-KA7Kdnj"
   },
   "outputs": [
    {
     "data": {
      "text/html": [
       "<div>\n",
       "<style scoped>\n",
       "    .dataframe tbody tr th:only-of-type {\n",
       "        vertical-align: middle;\n",
       "    }\n",
       "\n",
       "    .dataframe tbody tr th {\n",
       "        vertical-align: top;\n",
       "    }\n",
       "\n",
       "    .dataframe thead th {\n",
       "        text-align: right;\n",
       "    }\n",
       "</style>\n",
       "<table border=\"1\" class=\"dataframe\">\n",
       "  <thead>\n",
       "    <tr style=\"text-align: right;\">\n",
       "      <th></th>\n",
       "      <th>0</th>\n",
       "      <th>1</th>\n",
       "      <th>2</th>\n",
       "      <th>3</th>\n",
       "    </tr>\n",
       "  </thead>\n",
       "  <tbody>\n",
       "    <tr>\n",
       "      <th>0</th>\n",
       "      <td>0.311763</td>\n",
       "      <td>-0.774167</td>\n",
       "      <td>-0.354428</td>\n",
       "      <td>-0.165007</td>\n",
       "    </tr>\n",
       "    <tr>\n",
       "      <th>1</th>\n",
       "      <td>-2.913369</td>\n",
       "      <td>-1.593691</td>\n",
       "      <td>2.315662</td>\n",
       "      <td>-0.396509</td>\n",
       "    </tr>\n",
       "    <tr>\n",
       "      <th>2</th>\n",
       "      <td>-2.744579</td>\n",
       "      <td>-1.986174</td>\n",
       "      <td>0.042854</td>\n",
       "      <td>-1.361077</td>\n",
       "    </tr>\n",
       "  </tbody>\n",
       "</table>\n",
       "</div>"
      ],
      "text/plain": [
       "          0         1         2         3\n",
       "0  0.311763 -0.774167 -0.354428 -0.165007\n",
       "1 -2.913369 -1.593691  2.315662 -0.396509\n",
       "2 -2.744579 -1.986174  0.042854 -1.361077"
      ]
     },
     "execution_count": 60,
     "metadata": {},
     "output_type": "execute_result"
    }
   ],
   "source": [
    "df9.apply(np.cumsum)"
   ]
  },
  {
   "cell_type": "markdown",
   "metadata": {
    "colab_type": "text",
    "id": "fw0DQQRJKdnn"
   },
   "source": [
    "### Find the Maximum Value:"
   ]
  },
  {
   "cell_type": "code",
   "execution_count": 62,
   "metadata": {
    "colab": {},
    "colab_type": "code",
    "id": "zgSyqD3lKdno"
   },
   "outputs": [
    {
     "data": {
      "text/plain": [
       "0    0.453249\n",
       "1    2.080878\n",
       "2    0.862351\n",
       "3    1.313482\n",
       "dtype: float64"
      ]
     },
     "execution_count": 62,
     "metadata": {},
     "output_type": "execute_result"
    }
   ],
   "source": [
    "df8.max()"
   ]
  },
  {
   "cell_type": "markdown",
   "metadata": {
    "colab_type": "text",
    "id": "oO0jaTlKKdns"
   },
   "source": [
    "## <center>🏆 Challenge\n",
    "\n",
    "Find the maximum value of df9"
   ]
  },
  {
   "cell_type": "code",
   "execution_count": 63,
   "metadata": {
    "colab": {},
    "colab_type": "code",
    "id": "_tk9IvRoKdns"
   },
   "outputs": [
    {
     "data": {
      "text/plain": [
       "0    0.311763\n",
       "1   -0.392483\n",
       "2    2.670090\n",
       "3   -0.165007\n",
       "dtype: float64"
      ]
     },
     "execution_count": 63,
     "metadata": {},
     "output_type": "execute_result"
    }
   ],
   "source": [
    "df9.max()"
   ]
  },
  {
   "cell_type": "markdown",
   "metadata": {
    "colab_type": "text",
    "id": "KiQuHnRiKdnw"
   },
   "source": [
    "### Find the Minimum Value:"
   ]
  },
  {
   "cell_type": "code",
   "execution_count": 64,
   "metadata": {
    "colab": {},
    "colab_type": "code",
    "id": "oj64lvwKKdnx"
   },
   "outputs": [
    {
     "data": {
      "text/plain": [
       "0   -1.351328\n",
       "1   -0.781962\n",
       "2   -2.130441\n",
       "3   -1.503795\n",
       "dtype: float64"
      ]
     },
     "execution_count": 64,
     "metadata": {},
     "output_type": "execute_result"
    }
   ],
   "source": [
    "df8.min()"
   ]
  },
  {
   "cell_type": "markdown",
   "metadata": {
    "colab_type": "text",
    "id": "f5rFdhtuKdn2"
   },
   "source": [
    "## <center>🏆 Challenge\n",
    "\n",
    "Find the minimum value of df9"
   ]
  },
  {
   "cell_type": "code",
   "execution_count": 65,
   "metadata": {
    "colab": {},
    "colab_type": "code",
    "id": "IP_VMNRMKdn2"
   },
   "outputs": [
    {
     "data": {
      "text/plain": [
       "0   -3.225132\n",
       "1   -0.819524\n",
       "2   -2.272808\n",
       "3   -0.964568\n",
       "dtype: float64"
      ]
     },
     "execution_count": 65,
     "metadata": {},
     "output_type": "execute_result"
    }
   ],
   "source": [
    "df9.min()"
   ]
  },
  {
   "cell_type": "markdown",
   "metadata": {
    "colab_type": "text",
    "id": "AmoK6uvfKdoD"
   },
   "source": [
    "## <center>String Manipulation"
   ]
  },
  {
   "cell_type": "markdown",
   "metadata": {
    "colab_type": "text",
    "id": "PcpGu3l9KdoE"
   },
   "source": [
    "We will work with the series s7 for this section."
   ]
  },
  {
   "cell_type": "code",
   "execution_count": 66,
   "metadata": {
    "colab": {},
    "colab_type": "code",
    "id": "87p9smW1KdoH"
   },
   "outputs": [
    {
     "data": {
      "text/plain": [
       "0               animal\n",
       "1                 bird\n",
       "2     Pandas Library  \n",
       "dtype: object"
      ]
     },
     "execution_count": 66,
     "metadata": {},
     "output_type": "execute_result"
    }
   ],
   "source": [
    "#first run this cell to create series s7\n",
    "s7 = np.array(['animal','bird',' Pandas Library  '] )\n",
    "s7 = pd.Series(s7)\n",
    "s7"
   ]
  },
  {
   "cell_type": "markdown",
   "metadata": {
    "colab_type": "text",
    "id": "sXWxAHHSKdoK"
   },
   "source": [
    "### Convert to Lower Case"
   ]
  },
  {
   "cell_type": "code",
   "execution_count": 67,
   "metadata": {
    "colab": {},
    "colab_type": "code",
    "id": "RfLs4tqYKdoL"
   },
   "outputs": [
    {
     "data": {
      "text/plain": [
       "0               animal\n",
       "1                 bird\n",
       "2     pandas library  \n",
       "dtype: object"
      ]
     },
     "execution_count": 67,
     "metadata": {},
     "output_type": "execute_result"
    }
   ],
   "source": [
    "s7.str.lower()"
   ]
  },
  {
   "cell_type": "markdown",
   "metadata": {
    "colab_type": "text",
    "id": "4UiBFht5KdoO"
   },
   "source": [
    "## <center>🏆 Challenge\n",
    "\n",
    "Convert the strings in s8 to lower case."
   ]
  },
  {
   "cell_type": "code",
   "execution_count": 70,
   "metadata": {
    "colab": {},
    "colab_type": "code",
    "id": "cdW2k0hsYO8v"
   },
   "outputs": [
    {
     "data": {
      "text/plain": [
       "0                   cat\n",
       "1                   dog\n",
       "2    python programming\n",
       "dtype: object"
      ]
     },
     "execution_count": 70,
     "metadata": {},
     "output_type": "execute_result"
    }
   ],
   "source": [
    "s8 = np.array(['cat', 'dog', 'Python Programming'])\n",
    "s8 = pd.Series(s8)\n",
    "s8.str.lower()"
   ]
  },
  {
   "cell_type": "markdown",
   "metadata": {
    "colab_type": "text",
    "id": "lUWneFcJKdoZ"
   },
   "source": [
    "---------------"
   ]
  },
  {
   "cell_type": "markdown",
   "metadata": {
    "colab_type": "text",
    "id": "Are8Zvx6Kdob"
   },
   "source": [
    "### Convert to Upper Case"
   ]
  },
  {
   "cell_type": "code",
   "execution_count": 71,
   "metadata": {
    "colab": {},
    "colab_type": "code",
    "id": "MX5fwebiKdob"
   },
   "outputs": [
    {
     "data": {
      "text/plain": [
       "0               ANIMAL\n",
       "1                 BIRD\n",
       "2     PANDAS LIBRARY  \n",
       "dtype: object"
      ]
     },
     "execution_count": 71,
     "metadata": {},
     "output_type": "execute_result"
    }
   ],
   "source": [
    "s7.str.upper()"
   ]
  },
  {
   "cell_type": "markdown",
   "metadata": {
    "colab_type": "text",
    "id": "wgYhsRWPKdoe"
   },
   "source": [
    "## <center>🏆 Challenge\n",
    "\n",
    "Convert the strings in s8 to upper case."
   ]
  },
  {
   "cell_type": "code",
   "execution_count": 72,
   "metadata": {
    "colab": {},
    "colab_type": "code",
    "id": "37--BEZoKdof"
   },
   "outputs": [
    {
     "data": {
      "text/plain": [
       "0                   CAT\n",
       "1                   DOG\n",
       "2    PYTHON PROGRAMMING\n",
       "dtype: object"
      ]
     },
     "execution_count": 72,
     "metadata": {},
     "output_type": "execute_result"
    }
   ],
   "source": [
    "s8.str.upper()"
   ]
  },
  {
   "cell_type": "markdown",
   "metadata": {
    "colab_type": "text",
    "id": "puSkl35fKdoh"
   },
   "source": [
    "### Swap Capitalization"
   ]
  },
  {
   "cell_type": "code",
   "execution_count": 73,
   "metadata": {
    "colab": {},
    "colab_type": "code",
    "id": "kyd4YBoRKdoi"
   },
   "outputs": [
    {
     "data": {
      "text/plain": [
       "0               ANIMAL\n",
       "1                 BIRD\n",
       "2     pANDAS lIBRARY  \n",
       "dtype: object"
      ]
     },
     "execution_count": 73,
     "metadata": {},
     "output_type": "execute_result"
    }
   ],
   "source": [
    "s7.str.swapcase()"
   ]
  },
  {
   "cell_type": "markdown",
   "metadata": {
    "colab_type": "text",
    "id": "DDhJZURPKdok"
   },
   "source": [
    "## <center>🏆 Challenge\n",
    "\n",
    "Swap the capitalization of the strings in s8."
   ]
  },
  {
   "cell_type": "code",
   "execution_count": 74,
   "metadata": {
    "colab": {},
    "colab_type": "code",
    "id": "n9_siA8rKdol"
   },
   "outputs": [
    {
     "data": {
      "text/plain": [
       "0                   CAT\n",
       "1                   DOG\n",
       "2    pYTHON pROGRAMMING\n",
       "dtype: object"
      ]
     },
     "execution_count": 74,
     "metadata": {},
     "output_type": "execute_result"
    }
   ],
   "source": [
    "s8.str.swapcase()"
   ]
  },
  {
   "cell_type": "markdown",
   "metadata": {
    "colab_type": "text",
    "id": "2UrRMXFvKdop"
   },
   "source": [
    "### Find Length of String"
   ]
  },
  {
   "cell_type": "code",
   "execution_count": 75,
   "metadata": {
    "colab": {},
    "colab_type": "code",
    "id": "WszLyCdvKdop"
   },
   "outputs": [
    {
     "data": {
      "text/plain": [
       "0     6\n",
       "1     4\n",
       "2    17\n",
       "dtype: int64"
      ]
     },
     "execution_count": 75,
     "metadata": {},
     "output_type": "execute_result"
    }
   ],
   "source": [
    "s7.str.len()"
   ]
  },
  {
   "cell_type": "markdown",
   "metadata": {
    "colab_type": "text",
    "id": "u1TkmYy9Kdot"
   },
   "source": [
    "## <center>🏆 Challenge\n",
    "\n",
    "Find the length of the strings in s8."
   ]
  },
  {
   "cell_type": "code",
   "execution_count": 76,
   "metadata": {
    "colab": {},
    "colab_type": "code",
    "id": "ko-Xm2FNKdot"
   },
   "outputs": [
    {
     "data": {
      "text/plain": [
       "0     3\n",
       "1     3\n",
       "2    18\n",
       "dtype: int64"
      ]
     },
     "execution_count": 76,
     "metadata": {},
     "output_type": "execute_result"
    }
   ],
   "source": [
    "s8.str.len()"
   ]
  },
  {
   "cell_type": "markdown",
   "metadata": {
    "colab_type": "text",
    "id": "gerhV7EdKdow"
   },
   "source": [
    "-------------"
   ]
  },
  {
   "cell_type": "markdown",
   "metadata": {
    "colab_type": "text",
    "id": "VwSh2vTUKdow"
   },
   "source": [
    "### Split String"
   ]
  },
  {
   "cell_type": "code",
   "execution_count": 77,
   "metadata": {
    "colab": {},
    "colab_type": "code",
    "id": "1jm-W4v5Kdox"
   },
   "outputs": [
    {
     "data": {
      "text/plain": [
       "0             [animal]\n",
       "1               [bird]\n",
       "2    [Pandas, Library]\n",
       "dtype: object"
      ]
     },
     "execution_count": 77,
     "metadata": {},
     "output_type": "execute_result"
    }
   ],
   "source": [
    "s7.str.split()"
   ]
  },
  {
   "cell_type": "markdown",
   "metadata": {
    "colab_type": "text",
    "id": "Jte4lCpMKdoy"
   },
   "source": [
    "## <center>🏆 Challenge\n",
    "\n",
    "Find the length of the strings in s8."
   ]
  },
  {
   "cell_type": "code",
   "execution_count": null,
   "metadata": {
    "colab": {},
    "colab_type": "code",
    "id": "hf53ABmTKdoy"
   },
   "outputs": [],
   "source": [
    "#first run this cell to create the series s8\n",
    "s8 = np.array(['cat','dog',' Python Programming  '] )\n",
    "s8 = pd.Series(s8)\n",
    "s8"
   ]
  },
  {
   "cell_type": "code",
   "execution_count": 78,
   "metadata": {
    "colab": {},
    "colab_type": "code",
    "id": "8XohGUPUKdo0"
   },
   "outputs": [
    {
     "data": {
      "text/plain": [
       "0     3\n",
       "1     3\n",
       "2    18\n",
       "dtype: int64"
      ]
     },
     "execution_count": 78,
     "metadata": {},
     "output_type": "execute_result"
    }
   ],
   "source": [
    "s8.str.len()"
   ]
  },
  {
   "cell_type": "markdown",
   "metadata": {
    "colab_type": "text",
    "id": "uWIEeHQRKdo1"
   },
   "source": [
    "### Detect Unique Values"
   ]
  },
  {
   "cell_type": "code",
   "execution_count": 79,
   "metadata": {
    "colab": {},
    "colab_type": "code",
    "id": "Q84Ypw9SKdo1"
   },
   "outputs": [
    {
     "data": {
      "text/plain": [
       "array(['animal', 'bird', ' Pandas Library  '], dtype=object)"
      ]
     },
     "execution_count": 79,
     "metadata": {},
     "output_type": "execute_result"
    }
   ],
   "source": [
    "s7.unique()"
   ]
  },
  {
   "cell_type": "markdown",
   "metadata": {
    "colab_type": "text",
    "id": "NjmgQuqYKdo3"
   },
   "source": [
    "## <center>🏆 Challenge\n",
    "\n",
    "Detect unique values in s8."
   ]
  },
  {
   "cell_type": "code",
   "execution_count": 80,
   "metadata": {
    "colab": {},
    "colab_type": "code",
    "id": "_YMFeHshKdo4"
   },
   "outputs": [
    {
     "data": {
      "text/plain": [
       "array(['cat', 'dog', 'Python Programming'], dtype=object)"
      ]
     },
     "execution_count": 80,
     "metadata": {},
     "output_type": "execute_result"
    }
   ],
   "source": [
    "s8.unique()"
   ]
  },
  {
   "cell_type": "markdown",
   "metadata": {
    "colab_type": "text",
    "id": "jcj97YkjKdo5"
   },
   "source": [
    "### Repeat String"
   ]
  },
  {
   "cell_type": "markdown",
   "metadata": {
    "colab_type": "text",
    "id": "Ez78XAVnKdo5"
   },
   "source": [
    "We will work with the series s7 for this section."
   ]
  },
  {
   "cell_type": "code",
   "execution_count": null,
   "metadata": {
    "colab": {},
    "colab_type": "code",
    "id": "3xyw_CgyKdo6"
   },
   "outputs": [],
   "source": [
    "#first run this cell to create series s7\n",
    "s7 = np.array(['animal','bird',' Pandas Library  '] )\n",
    "s7= pd.Series(s7)\n",
    "s7"
   ]
  },
  {
   "cell_type": "code",
   "execution_count": 81,
   "metadata": {
    "colab": {},
    "colab_type": "code",
    "id": "1TSLCYyJKdo-"
   },
   "outputs": [
    {
     "data": {
      "text/plain": [
       "0                                               animal\n",
       "1                                             birdbird\n",
       "2     Pandas Library   Pandas Library   Pandas Libr...\n",
       "dtype: object"
      ]
     },
     "execution_count": 81,
     "metadata": {},
     "output_type": "execute_result"
    }
   ],
   "source": [
    "repeat_list = [1,2,3]\n",
    "s7.str.repeat(repeat_list)"
   ]
  },
  {
   "cell_type": "markdown",
   "metadata": {
    "colab_type": "text",
    "id": "pZZLkc1GKdpA"
   },
   "source": [
    "## <center>🏆 Challenge\n",
    "\n",
    "Repeat the values in s8 in the order [1,2,3]"
   ]
  },
  {
   "cell_type": "code",
   "execution_count": 83,
   "metadata": {
    "colab": {},
    "colab_type": "code",
    "id": "esXF9hAdKdpB"
   },
   "outputs": [],
   "source": [
    "# <center>🏆 Challenge\n",
    "# Repeat the values in s8 in the order [1,2,3]"
   ]
  },
  {
   "cell_type": "code",
   "execution_count": 84,
   "metadata": {
    "colab": {},
    "colab_type": "code",
    "id": "f_YvQJsEKdpO"
   },
   "outputs": [
    {
     "data": {
      "text/plain": [
       "0                                                  cat\n",
       "1                                               dogdog\n",
       "2    Python ProgrammingPython ProgrammingPython Pro...\n",
       "dtype: object"
      ]
     },
     "execution_count": 84,
     "metadata": {},
     "output_type": "execute_result"
    }
   ],
   "source": [
    "repeat_list = [1,2,3]\n",
    "s8.str.repeat(repeat_list)"
   ]
  },
  {
   "cell_type": "code",
   "execution_count": null,
   "metadata": {},
   "outputs": [],
   "source": []
  }
 ],
 "metadata": {
  "colab": {
   "name": "Workbook - Pandas Python Library for Beginners in Data Science.ipynb",
   "provenance": []
  },
  "kernelspec": {
   "display_name": "Python 3",
   "language": "python",
   "name": "python3"
  },
  "language_info": {
   "codemirror_mode": {
    "name": "ipython",
    "version": 3
   },
   "file_extension": ".py",
   "mimetype": "text/x-python",
   "name": "python",
   "nbconvert_exporter": "python",
   "pygments_lexer": "ipython3",
   "version": "3.8.3"
  }
 },
 "nbformat": 4,
 "nbformat_minor": 4
}
